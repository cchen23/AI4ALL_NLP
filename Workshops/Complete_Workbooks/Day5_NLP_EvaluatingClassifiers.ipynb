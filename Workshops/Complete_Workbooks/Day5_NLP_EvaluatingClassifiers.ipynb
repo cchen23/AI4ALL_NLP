{
 "cells": [
  {
   "cell_type": "markdown",
   "metadata": {},
   "source": [
    "## Evaluating Classifiers"
   ]
  },
  {
   "cell_type": "markdown",
   "metadata": {},
   "source": [
    "Today we are going to discuss metrics for comparing classifiers. We will bring back the rule-based classifier that was introduced yesterday (the classifier that used the word overlap proportion for headlines and articles in order to make its decision), and we will compare the performance of this classifier against a classifier that classifies every article-headline pair as 'unrelated'. We will see that accuracy is only one way to measure performance, and that it may not be the best metric when the training and test examples are unbalanced across classes."
   ]
  },
  {
   "cell_type": "markdown",
   "metadata": {},
   "source": [
    "### 1. Load the data "
   ]
  },
  {
   "cell_type": "markdown",
   "metadata": {},
   "source": [
    "We have copied the functions that we created yesterday into a separate file (named 'initial_classifier_utils.py'), and we will now import those functions here, along with the other python packages we need:"
   ]
  },
  {
   "cell_type": "code",
   "execution_count": 1,
   "metadata": {},
   "outputs": [],
   "source": [
    "import initial_classifier_utils as utils\n",
    "import numpy as np\n",
    "import pandas as pd\n",
    "import sys\n",
    "import os.path\n",
    "# Adjust settings so that we can fully see the dataset below\n",
    "pd.set_option('display.max_colwidth', -1)"
   ]
  },
  {
   "cell_type": "code",
   "execution_count": 2,
   "metadata": {},
   "outputs": [],
   "source": [
    "# Create the training data, if it doesn't already exist:\n",
    "if os.path.isfile('train_data.csv') == False:\n",
    "    utils.merge_data(\"train_stances.csv\", \"train_bodies.csv\", \"train_data.csv\")"
   ]
  },
  {
   "cell_type": "code",
   "execution_count": 3,
   "metadata": {},
   "outputs": [],
   "source": [
    "# Create the test data, if it doesn't already exist:\n",
    "if os.path.isfile('test_data.csv') == False:\n",
    "    utils.merge_data(\"competition_test_stances.csv\", \"competition_test_bodies.csv\", \"test_data.csv\")"
   ]
  },
  {
   "cell_type": "code",
   "execution_count": 4,
   "metadata": {},
   "outputs": [],
   "source": [
    "# Read in the training and test data and separate out the training data according to the value of the Stance variable:\n",
    "train_data = pd.read_csv(\"train_data.csv\", encoding = \"utf-8\")\n",
    "unrelated_train = train_data[train_data['Stance'] == 'unrelated']\n",
    "discuss_train = train_data[train_data['Stance'] == 'discuss']\n",
    "agree_train = train_data[train_data['Stance'] == 'agree']\n",
    "disagree_train = train_data[train_data['Stance'] == 'disagree']\n",
    "\n",
    "test_data = pd.read_csv(\"test_data.csv\", encoding = \"utf-8\")"
   ]
  },
  {
   "cell_type": "markdown",
   "metadata": {},
   "source": [
    "### 2. Load the classifier and make predictions on the test data"
   ]
  },
  {
   "cell_type": "code",
   "execution_count": 5,
   "metadata": {},
   "outputs": [],
   "source": [
    "# We are going to compute the headline-article word overlap for each of the examples in the unrelated,\n",
    "# discuss, agree and disagree categories in the training set.  \n",
    "# Warning: this may take a minute - it is iterating through almost 50,000 examples!\n",
    "proportions_train = utils.compute_proportions(unrelated_train, discuss_train, agree_train, disagree_train)"
   ]
  },
  {
   "cell_type": "code",
   "execution_count": 6,
   "metadata": {},
   "outputs": [],
   "source": [
    "# We are going to use a lot of the functions that were created yesterday, but we are also going to define a new one:\n",
    "# The function below takes the test data set and iterates through each article-headline pair. For each article-headline pair\n",
    "# it makes a prediction by calculating the headline-article word overlap and comparing this to the mean overlap values \n",
    "# for each of the categories in the training set \n",
    "def make_predictions(test_data, proportions_train):\n",
    "    stance_counts = {\"unrelated\":0, \"discuss\":0, \"agree\":0, \"disagree\":0}\n",
    "    stance_correct_counts = {\"unrelated\":0, \"discuss\":0, \"agree\":0, \"disagree\":0}\n",
    "    predictions_list = []\n",
    "    for i in range(test_data.shape[0]):\n",
    "        example = test_data.iloc[i]\n",
    "        predicted_stance = utils.make_prediction(example, proportions_train)\n",
    "        actual_stance = example['Stance']\n",
    "        # Append the predicted stance to the predictions_list - this will allow us to compare predictions and true \n",
    "        # values later on\n",
    "        predictions_list.append(predicted_stance)\n",
    "    return predictions_list"
   ]
  },
  {
   "cell_type": "code",
   "execution_count": 7,
   "metadata": {},
   "outputs": [
    {
     "data": {
      "text/plain": [
       "25413"
      ]
     },
     "execution_count": 7,
     "metadata": {},
     "output_type": "execute_result"
    }
   ],
   "source": [
    "# Call the make_predictions function (it may take a minute, the test_data set contains 25,413 examples!) \n",
    "# and check that it is the right size (one way to check that the make_predictions function is performing as expected)\n",
    "predictions = make_predictions(test_data, proportions_train)\n",
    "len(predictions)"
   ]
  },
  {
   "cell_type": "markdown",
   "metadata": {},
   "source": [
    "### 3. Compare predictions and ground truth"
   ]
  },
  {
   "cell_type": "code",
   "execution_count": 8,
   "metadata": {},
   "outputs": [],
   "source": [
    "# We are going to append the predictions list we just obtained to the test_data dataframe as an additional column,\n",
    "# along with one more column that predicts 'unrelated' for every example:\n",
    "test_data['prediction_1'] = predictions\n",
    "test_data['prediction_2'] = 'unrelated'"
   ]
  },
  {
   "cell_type": "code",
   "execution_count": 9,
   "metadata": {},
   "outputs": [
    {
     "data": {
      "text/html": [
       "<div>\n",
       "<style scoped>\n",
       "    .dataframe tbody tr th:only-of-type {\n",
       "        vertical-align: middle;\n",
       "    }\n",
       "\n",
       "    .dataframe tbody tr th {\n",
       "        vertical-align: top;\n",
       "    }\n",
       "\n",
       "    .dataframe thead th {\n",
       "        text-align: right;\n",
       "    }\n",
       "</style>\n",
       "<table border=\"1\" class=\"dataframe\">\n",
       "  <thead>\n",
       "    <tr style=\"text-align: right;\">\n",
       "      <th></th>\n",
       "      <th>Body ID</th>\n",
       "      <th>articleBody</th>\n",
       "      <th>Headline</th>\n",
       "      <th>Stance</th>\n",
       "      <th>prediction_1</th>\n",
       "      <th>prediction_2</th>\n",
       "    </tr>\n",
       "  </thead>\n",
       "  <tbody>\n",
       "    <tr>\n",
       "      <th>0</th>\n",
       "      <td>1</td>\n",
       "      <td>Al-Sisi has denied Israeli reports stating that he offered to extend the Gaza Strip.</td>\n",
       "      <td>Apple installing safes in-store to protect gold Watch Edition</td>\n",
       "      <td>unrelated</td>\n",
       "      <td>unrelated</td>\n",
       "      <td>unrelated</td>\n",
       "    </tr>\n",
       "    <tr>\n",
       "      <th>1</th>\n",
       "      <td>1</td>\n",
       "      <td>Al-Sisi has denied Israeli reports stating that he offered to extend the Gaza Strip.</td>\n",
       "      <td>El-Sisi denies claims he'll give Sinai land to Palestinians</td>\n",
       "      <td>agree</td>\n",
       "      <td>unrelated</td>\n",
       "      <td>unrelated</td>\n",
       "    </tr>\n",
       "    <tr>\n",
       "      <th>2</th>\n",
       "      <td>1</td>\n",
       "      <td>Al-Sisi has denied Israeli reports stating that he offered to extend the Gaza Strip.</td>\n",
       "      <td>Apple to keep gold Watch Editions in special in-store safes</td>\n",
       "      <td>unrelated</td>\n",
       "      <td>unrelated</td>\n",
       "      <td>unrelated</td>\n",
       "    </tr>\n",
       "    <tr>\n",
       "      <th>3</th>\n",
       "      <td>1</td>\n",
       "      <td>Al-Sisi has denied Israeli reports stating that he offered to extend the Gaza Strip.</td>\n",
       "      <td>Apple Stores to Keep Gold “Edition” Apple Watch in Custom Safes</td>\n",
       "      <td>unrelated</td>\n",
       "      <td>unrelated</td>\n",
       "      <td>unrelated</td>\n",
       "    </tr>\n",
       "    <tr>\n",
       "      <th>4</th>\n",
       "      <td>1</td>\n",
       "      <td>Al-Sisi has denied Israeli reports stating that he offered to extend the Gaza Strip.</td>\n",
       "      <td>South Korean woman's hair 'eaten' by robot vacuum cleaner as she slept</td>\n",
       "      <td>unrelated</td>\n",
       "      <td>unrelated</td>\n",
       "      <td>unrelated</td>\n",
       "    </tr>\n",
       "  </tbody>\n",
       "</table>\n",
       "</div>"
      ],
      "text/plain": [
       "   Body ID  \\\n",
       "0  1         \n",
       "1  1         \n",
       "2  1         \n",
       "3  1         \n",
       "4  1         \n",
       "\n",
       "                                                                            articleBody  \\\n",
       "0  Al-Sisi has denied Israeli reports stating that he offered to extend the Gaza Strip.   \n",
       "1  Al-Sisi has denied Israeli reports stating that he offered to extend the Gaza Strip.   \n",
       "2  Al-Sisi has denied Israeli reports stating that he offered to extend the Gaza Strip.   \n",
       "3  Al-Sisi has denied Israeli reports stating that he offered to extend the Gaza Strip.   \n",
       "4  Al-Sisi has denied Israeli reports stating that he offered to extend the Gaza Strip.   \n",
       "\n",
       "                                                                 Headline  \\\n",
       "0  Apple installing safes in-store to protect gold Watch Edition            \n",
       "1  El-Sisi denies claims he'll give Sinai land to Palestinians              \n",
       "2  Apple to keep gold Watch Editions in special in-store safes              \n",
       "3  Apple Stores to Keep Gold “Edition” Apple Watch in Custom Safes          \n",
       "4  South Korean woman's hair 'eaten' by robot vacuum cleaner as she slept   \n",
       "\n",
       "      Stance prediction_1 prediction_2  \n",
       "0  unrelated  unrelated    unrelated    \n",
       "1  agree      unrelated    unrelated    \n",
       "2  unrelated  unrelated    unrelated    \n",
       "3  unrelated  unrelated    unrelated    \n",
       "4  unrelated  unrelated    unrelated    "
      ]
     },
     "execution_count": 9,
     "metadata": {},
     "output_type": "execute_result"
    }
   ],
   "source": [
    "# Let's look at the modified test_data dataframe by viewing the first few examples:\n",
    "test_data.head()"
   ]
  },
  {
   "cell_type": "code",
   "execution_count": 10,
   "metadata": {},
   "outputs": [
    {
     "data": {
      "text/html": [
       "<div>\n",
       "<style scoped>\n",
       "    .dataframe tbody tr th:only-of-type {\n",
       "        vertical-align: middle;\n",
       "    }\n",
       "\n",
       "    .dataframe tbody tr th {\n",
       "        vertical-align: top;\n",
       "    }\n",
       "\n",
       "    .dataframe thead th {\n",
       "        text-align: right;\n",
       "    }\n",
       "</style>\n",
       "<table border=\"1\" class=\"dataframe\">\n",
       "  <thead>\n",
       "    <tr style=\"text-align: right;\">\n",
       "      <th></th>\n",
       "      <th>Body ID</th>\n",
       "      <th>articleBody</th>\n",
       "      <th>Headline</th>\n",
       "      <th>Stance</th>\n",
       "      <th>prediction_1</th>\n",
       "      <th>prediction_2</th>\n",
       "    </tr>\n",
       "  </thead>\n",
       "  <tbody>\n",
       "    <tr>\n",
       "      <th>25410</th>\n",
       "      <td>2586</td>\n",
       "      <td>Remember how much Republicans wanted to repeal Obamacare?\\n\\nThe Republican majority in the House of Representatives has voted more than 50 times to repeal the law. Conservatives have twice brought challenges to the Supreme Court — a court with powerful voices that often lean in their direction — only to be largely rebuffed both times. The last government shutdown was driven by Republicans who insisted on defunding Obamacare (not to be confused with what may be the next government shutdown, driven by Republicans insisting on defunding Planned Parenthood).\\n\\nSome suggest that the calls for repealing Obamacare are fading. Sarah Kliff argued that the “near-complete absence of Obama’s health overhaul” in last week’s Republican presidential debate was “remarkable.”\\n\\nMaybe, but don’t count on it. In GOP presidential candidate Jeb Bush’s white paper on how he would get to 4 percent growth through supply-side tax cuts, his team of economists stresses that repealing the Affordable Care Act will be an “important means of enhancing economic growth.” Front-runner Donald Trump said just last week that he was going to replace Obamacare with “DonaldCare,” which would be both “absolutely great” and “really spectacular.” Repealing health-care reform remains a prominent talking point for Wisconsin Gov. Scott Walker and Sen. Ted Cruz, both GOP presidential candidates.\\n\\nWell, since we don’t know what’s in it, I can’t comment on DonaldCare.\\n\\nBut I can tell you this about Obamacare: When it comes to meeting one of its most important goals — providing coverage to the uninsured — it is working extremely well. It’s posting historical gains on this front and, in so doing, both insulating itself from repeal and creating a daunting political challenge for its opponents.\\n\\nThe facts of the case are thoroughly drawn out in this new analysis by my colleagues Matt Broaddus and Edwin Park (B&amp;P) from the Center on Budget and Policy Priorities:\\n\\n— As the figure above shows, newly released census data show that the share of those without health coverage fell from 13.3 percent to 10.4 last year.\\n\\n— That’s the largest single-year drop on record based on data going back to 1987.\\n\\nhi2\\nSource: B&amp;P (see text)\\n— In this type of work, the strength of your findings are much bolstered when you see them across multiple sources. As B&amp;P point out, the census findings are “consistent with the historic coverage gains measured in the Centers for Disease Control (CDC) and Prevention’s National Health Interview Survey and several private surveys…at 9.2 percent, the CDC’s estimated uninsured rate for the first quarter of 2015 was the lowest since the CDC began collecting these data in 1997 and more than 40 percent below the peak in 2010.”\\n\\n— The ACA takes a two-pronged attack on covering the uninsured, subsidizing private coverage through the exchanges and expanding Medicaid in the 25 states (as well as D.C.) that accepted that part of the deal. Both private and public coverage are making significant gains.\\n\\n— Speaking of anti-Obamacare ideology and its effect on people, B&amp;P provide this revealing calculation: “If the uninsured rate had fallen in non-expansion states at the same rate as in expansion states, an additional 2.6 million uninsured Americans would have gained coverage last year.”\\n\\n— Coverage last year grew most quickly among households with income below $50,000; their uninsured rate fell from about 20 percent to about 15 percent — in one year! Households above $50,000 had lower uninsured rates to start with, so we would expect smaller changes, but they, too, went from 9 percent to 7.4 percent.\\n\\nSuch truths are more than inconvenient for sworn enemies of the law. They can bob and weave in their primaries, but once they reach the general election, their Democratic opponent will slam them on these points. And unless they’re willing to massively flip — pretty unimaginable, given the heat generated by the issue for conservatives — people represented in the numbers and charts above will rightfully fear that their health security is at stake.\\n\\nI cannot overemphasize the importance of these facts, and, yes, I know better than most that our political discourse too often exists in a fact-free zone. But the success of the ACA strikes at the heart of the dysfunction strategy employed extremely effectively by anti-government conservatives. This is the self-fulfilling-prophecy strategy that campaigns on: “Washington is broken! Send me there and I’ll make sure it stays that way!”\\n\\nRemember, when government messes up, when it shuts down, when it fails to address the things that matter to most people — economic opportunity, wage stagnation, affordable college — and, instead, squabbles about Planned Parenthood, the winners are those who can say: “See? We told you. Government’s broken!” Never mind that those making that case are the ones doing the breaking.\\n\\nBut with Obamacare, they’ve been failing, and the more we elevate that case, the closer we get to the road back to Factville.</td>\n",
       "      <td>CBO’s Alternate Facts Show Obamacare is Unsustainable</td>\n",
       "      <td>disagree</td>\n",
       "      <td>unrelated</td>\n",
       "      <td>unrelated</td>\n",
       "    </tr>\n",
       "    <tr>\n",
       "      <th>25411</th>\n",
       "      <td>2586</td>\n",
       "      <td>Remember how much Republicans wanted to repeal Obamacare?\\n\\nThe Republican majority in the House of Representatives has voted more than 50 times to repeal the law. Conservatives have twice brought challenges to the Supreme Court — a court with powerful voices that often lean in their direction — only to be largely rebuffed both times. The last government shutdown was driven by Republicans who insisted on defunding Obamacare (not to be confused with what may be the next government shutdown, driven by Republicans insisting on defunding Planned Parenthood).\\n\\nSome suggest that the calls for repealing Obamacare are fading. Sarah Kliff argued that the “near-complete absence of Obama’s health overhaul” in last week’s Republican presidential debate was “remarkable.”\\n\\nMaybe, but don’t count on it. In GOP presidential candidate Jeb Bush’s white paper on how he would get to 4 percent growth through supply-side tax cuts, his team of economists stresses that repealing the Affordable Care Act will be an “important means of enhancing economic growth.” Front-runner Donald Trump said just last week that he was going to replace Obamacare with “DonaldCare,” which would be both “absolutely great” and “really spectacular.” Repealing health-care reform remains a prominent talking point for Wisconsin Gov. Scott Walker and Sen. Ted Cruz, both GOP presidential candidates.\\n\\nWell, since we don’t know what’s in it, I can’t comment on DonaldCare.\\n\\nBut I can tell you this about Obamacare: When it comes to meeting one of its most important goals — providing coverage to the uninsured — it is working extremely well. It’s posting historical gains on this front and, in so doing, both insulating itself from repeal and creating a daunting political challenge for its opponents.\\n\\nThe facts of the case are thoroughly drawn out in this new analysis by my colleagues Matt Broaddus and Edwin Park (B&amp;P) from the Center on Budget and Policy Priorities:\\n\\n— As the figure above shows, newly released census data show that the share of those without health coverage fell from 13.3 percent to 10.4 last year.\\n\\n— That’s the largest single-year drop on record based on data going back to 1987.\\n\\nhi2\\nSource: B&amp;P (see text)\\n— In this type of work, the strength of your findings are much bolstered when you see them across multiple sources. As B&amp;P point out, the census findings are “consistent with the historic coverage gains measured in the Centers for Disease Control (CDC) and Prevention’s National Health Interview Survey and several private surveys…at 9.2 percent, the CDC’s estimated uninsured rate for the first quarter of 2015 was the lowest since the CDC began collecting these data in 1997 and more than 40 percent below the peak in 2010.”\\n\\n— The ACA takes a two-pronged attack on covering the uninsured, subsidizing private coverage through the exchanges and expanding Medicaid in the 25 states (as well as D.C.) that accepted that part of the deal. Both private and public coverage are making significant gains.\\n\\n— Speaking of anti-Obamacare ideology and its effect on people, B&amp;P provide this revealing calculation: “If the uninsured rate had fallen in non-expansion states at the same rate as in expansion states, an additional 2.6 million uninsured Americans would have gained coverage last year.”\\n\\n— Coverage last year grew most quickly among households with income below $50,000; their uninsured rate fell from about 20 percent to about 15 percent — in one year! Households above $50,000 had lower uninsured rates to start with, so we would expect smaller changes, but they, too, went from 9 percent to 7.4 percent.\\n\\nSuch truths are more than inconvenient for sworn enemies of the law. They can bob and weave in their primaries, but once they reach the general election, their Democratic opponent will slam them on these points. And unless they’re willing to massively flip — pretty unimaginable, given the heat generated by the issue for conservatives — people represented in the numbers and charts above will rightfully fear that their health security is at stake.\\n\\nI cannot overemphasize the importance of these facts, and, yes, I know better than most that our political discourse too often exists in a fact-free zone. But the success of the ACA strikes at the heart of the dysfunction strategy employed extremely effectively by anti-government conservatives. This is the self-fulfilling-prophecy strategy that campaigns on: “Washington is broken! Send me there and I’ll make sure it stays that way!”\\n\\nRemember, when government messes up, when it shuts down, when it fails to address the things that matter to most people — economic opportunity, wage stagnation, affordable college — and, instead, squabbles about Planned Parenthood, the winners are those who can say: “See? We told you. Government’s broken!” Never mind that those making that case are the ones doing the breaking.\\n\\nBut with Obamacare, they’ve been failing, and the more we elevate that case, the closer we get to the road back to Factville.</td>\n",
       "      <td>Why Obamacare failed</td>\n",
       "      <td>disagree</td>\n",
       "      <td>disagree</td>\n",
       "      <td>unrelated</td>\n",
       "    </tr>\n",
       "    <tr>\n",
       "      <th>25412</th>\n",
       "      <td>2586</td>\n",
       "      <td>Remember how much Republicans wanted to repeal Obamacare?\\n\\nThe Republican majority in the House of Representatives has voted more than 50 times to repeal the law. Conservatives have twice brought challenges to the Supreme Court — a court with powerful voices that often lean in their direction — only to be largely rebuffed both times. The last government shutdown was driven by Republicans who insisted on defunding Obamacare (not to be confused with what may be the next government shutdown, driven by Republicans insisting on defunding Planned Parenthood).\\n\\nSome suggest that the calls for repealing Obamacare are fading. Sarah Kliff argued that the “near-complete absence of Obama’s health overhaul” in last week’s Republican presidential debate was “remarkable.”\\n\\nMaybe, but don’t count on it. In GOP presidential candidate Jeb Bush’s white paper on how he would get to 4 percent growth through supply-side tax cuts, his team of economists stresses that repealing the Affordable Care Act will be an “important means of enhancing economic growth.” Front-runner Donald Trump said just last week that he was going to replace Obamacare with “DonaldCare,” which would be both “absolutely great” and “really spectacular.” Repealing health-care reform remains a prominent talking point for Wisconsin Gov. Scott Walker and Sen. Ted Cruz, both GOP presidential candidates.\\n\\nWell, since we don’t know what’s in it, I can’t comment on DonaldCare.\\n\\nBut I can tell you this about Obamacare: When it comes to meeting one of its most important goals — providing coverage to the uninsured — it is working extremely well. It’s posting historical gains on this front and, in so doing, both insulating itself from repeal and creating a daunting political challenge for its opponents.\\n\\nThe facts of the case are thoroughly drawn out in this new analysis by my colleagues Matt Broaddus and Edwin Park (B&amp;P) from the Center on Budget and Policy Priorities:\\n\\n— As the figure above shows, newly released census data show that the share of those without health coverage fell from 13.3 percent to 10.4 last year.\\n\\n— That’s the largest single-year drop on record based on data going back to 1987.\\n\\nhi2\\nSource: B&amp;P (see text)\\n— In this type of work, the strength of your findings are much bolstered when you see them across multiple sources. As B&amp;P point out, the census findings are “consistent with the historic coverage gains measured in the Centers for Disease Control (CDC) and Prevention’s National Health Interview Survey and several private surveys…at 9.2 percent, the CDC’s estimated uninsured rate for the first quarter of 2015 was the lowest since the CDC began collecting these data in 1997 and more than 40 percent below the peak in 2010.”\\n\\n— The ACA takes a two-pronged attack on covering the uninsured, subsidizing private coverage through the exchanges and expanding Medicaid in the 25 states (as well as D.C.) that accepted that part of the deal. Both private and public coverage are making significant gains.\\n\\n— Speaking of anti-Obamacare ideology and its effect on people, B&amp;P provide this revealing calculation: “If the uninsured rate had fallen in non-expansion states at the same rate as in expansion states, an additional 2.6 million uninsured Americans would have gained coverage last year.”\\n\\n— Coverage last year grew most quickly among households with income below $50,000; their uninsured rate fell from about 20 percent to about 15 percent — in one year! Households above $50,000 had lower uninsured rates to start with, so we would expect smaller changes, but they, too, went from 9 percent to 7.4 percent.\\n\\nSuch truths are more than inconvenient for sworn enemies of the law. They can bob and weave in their primaries, but once they reach the general election, their Democratic opponent will slam them on these points. And unless they’re willing to massively flip — pretty unimaginable, given the heat generated by the issue for conservatives — people represented in the numbers and charts above will rightfully fear that their health security is at stake.\\n\\nI cannot overemphasize the importance of these facts, and, yes, I know better than most that our political discourse too often exists in a fact-free zone. But the success of the ACA strikes at the heart of the dysfunction strategy employed extremely effectively by anti-government conservatives. This is the self-fulfilling-prophecy strategy that campaigns on: “Washington is broken! Send me there and I’ll make sure it stays that way!”\\n\\nRemember, when government messes up, when it shuts down, when it fails to address the things that matter to most people — economic opportunity, wage stagnation, affordable college — and, instead, squabbles about Planned Parenthood, the winners are those who can say: “See? We told you. Government’s broken!” Never mind that those making that case are the ones doing the breaking.\\n\\nBut with Obamacare, they’ve been failing, and the more we elevate that case, the closer we get to the road back to Factville.</td>\n",
       "      <td>The success of the Affordable Care Act is a hugely inconvenient truth for its opponents</td>\n",
       "      <td>agree</td>\n",
       "      <td>agree</td>\n",
       "      <td>unrelated</td>\n",
       "    </tr>\n",
       "  </tbody>\n",
       "</table>\n",
       "</div>"
      ],
      "text/plain": [
       "       Body ID  \\\n",
       "25410  2586      \n",
       "25411  2586      \n",
       "25412  2586      \n",
       "\n",
       "                                                                                                                                                                                                                                                                                                                                                                                                                                                                                                                                                                                                                                                                                                                                                                                                                                                                                                                                                                                                                                                                                                                                                                                                                                                                                                                                                                                                                                                                                                                                                                                                                                                                                                                                                                                                                                                                                                                                                                                                                                                                                                                                                                                                                                                                                                                                                                                                                                                                                                                                                                                                                                                                                                                                                                                                                                                                                                                                                                                                                                                                                                                                                                                                                                                                                                                                                                                                                                                                                                                                                                                                                                                                                                                                                                                                                                                                                                                                                                                                                                                                                                                                                                                                                                                                                                                                                                                                                                                                                                                                                                                                                                                                                                                                                                                                                                                                                                                                                                                                                                                                                                                                                                                                                                               articleBody  \\\n",
       "25410  Remember how much Republicans wanted to repeal Obamacare?\\n\\nThe Republican majority in the House of Representatives has voted more than 50 times to repeal the law. Conservatives have twice brought challenges to the Supreme Court — a court with powerful voices that often lean in their direction — only to be largely rebuffed both times. The last government shutdown was driven by Republicans who insisted on defunding Obamacare (not to be confused with what may be the next government shutdown, driven by Republicans insisting on defunding Planned Parenthood).\\n\\nSome suggest that the calls for repealing Obamacare are fading. Sarah Kliff argued that the “near-complete absence of Obama’s health overhaul” in last week’s Republican presidential debate was “remarkable.”\\n\\nMaybe, but don’t count on it. In GOP presidential candidate Jeb Bush’s white paper on how he would get to 4 percent growth through supply-side tax cuts, his team of economists stresses that repealing the Affordable Care Act will be an “important means of enhancing economic growth.” Front-runner Donald Trump said just last week that he was going to replace Obamacare with “DonaldCare,” which would be both “absolutely great” and “really spectacular.” Repealing health-care reform remains a prominent talking point for Wisconsin Gov. Scott Walker and Sen. Ted Cruz, both GOP presidential candidates.\\n\\nWell, since we don’t know what’s in it, I can’t comment on DonaldCare.\\n\\nBut I can tell you this about Obamacare: When it comes to meeting one of its most important goals — providing coverage to the uninsured — it is working extremely well. It’s posting historical gains on this front and, in so doing, both insulating itself from repeal and creating a daunting political challenge for its opponents.\\n\\nThe facts of the case are thoroughly drawn out in this new analysis by my colleagues Matt Broaddus and Edwin Park (B&P) from the Center on Budget and Policy Priorities:\\n\\n— As the figure above shows, newly released census data show that the share of those without health coverage fell from 13.3 percent to 10.4 last year.\\n\\n— That’s the largest single-year drop on record based on data going back to 1987.\\n\\nhi2\\nSource: B&P (see text)\\n— In this type of work, the strength of your findings are much bolstered when you see them across multiple sources. As B&P point out, the census findings are “consistent with the historic coverage gains measured in the Centers for Disease Control (CDC) and Prevention’s National Health Interview Survey and several private surveys…at 9.2 percent, the CDC’s estimated uninsured rate for the first quarter of 2015 was the lowest since the CDC began collecting these data in 1997 and more than 40 percent below the peak in 2010.”\\n\\n— The ACA takes a two-pronged attack on covering the uninsured, subsidizing private coverage through the exchanges and expanding Medicaid in the 25 states (as well as D.C.) that accepted that part of the deal. Both private and public coverage are making significant gains.\\n\\n— Speaking of anti-Obamacare ideology and its effect on people, B&P provide this revealing calculation: “If the uninsured rate had fallen in non-expansion states at the same rate as in expansion states, an additional 2.6 million uninsured Americans would have gained coverage last year.”\\n\\n— Coverage last year grew most quickly among households with income below $50,000; their uninsured rate fell from about 20 percent to about 15 percent — in one year! Households above $50,000 had lower uninsured rates to start with, so we would expect smaller changes, but they, too, went from 9 percent to 7.4 percent.\\n\\nSuch truths are more than inconvenient for sworn enemies of the law. They can bob and weave in their primaries, but once they reach the general election, their Democratic opponent will slam them on these points. And unless they’re willing to massively flip — pretty unimaginable, given the heat generated by the issue for conservatives — people represented in the numbers and charts above will rightfully fear that their health security is at stake.\\n\\nI cannot overemphasize the importance of these facts, and, yes, I know better than most that our political discourse too often exists in a fact-free zone. But the success of the ACA strikes at the heart of the dysfunction strategy employed extremely effectively by anti-government conservatives. This is the self-fulfilling-prophecy strategy that campaigns on: “Washington is broken! Send me there and I’ll make sure it stays that way!”\\n\\nRemember, when government messes up, when it shuts down, when it fails to address the things that matter to most people — economic opportunity, wage stagnation, affordable college — and, instead, squabbles about Planned Parenthood, the winners are those who can say: “See? We told you. Government’s broken!” Never mind that those making that case are the ones doing the breaking.\\n\\nBut with Obamacare, they’ve been failing, and the more we elevate that case, the closer we get to the road back to Factville.   \n",
       "25411  Remember how much Republicans wanted to repeal Obamacare?\\n\\nThe Republican majority in the House of Representatives has voted more than 50 times to repeal the law. Conservatives have twice brought challenges to the Supreme Court — a court with powerful voices that often lean in their direction — only to be largely rebuffed both times. The last government shutdown was driven by Republicans who insisted on defunding Obamacare (not to be confused with what may be the next government shutdown, driven by Republicans insisting on defunding Planned Parenthood).\\n\\nSome suggest that the calls for repealing Obamacare are fading. Sarah Kliff argued that the “near-complete absence of Obama’s health overhaul” in last week’s Republican presidential debate was “remarkable.”\\n\\nMaybe, but don’t count on it. In GOP presidential candidate Jeb Bush’s white paper on how he would get to 4 percent growth through supply-side tax cuts, his team of economists stresses that repealing the Affordable Care Act will be an “important means of enhancing economic growth.” Front-runner Donald Trump said just last week that he was going to replace Obamacare with “DonaldCare,” which would be both “absolutely great” and “really spectacular.” Repealing health-care reform remains a prominent talking point for Wisconsin Gov. Scott Walker and Sen. Ted Cruz, both GOP presidential candidates.\\n\\nWell, since we don’t know what’s in it, I can’t comment on DonaldCare.\\n\\nBut I can tell you this about Obamacare: When it comes to meeting one of its most important goals — providing coverage to the uninsured — it is working extremely well. It’s posting historical gains on this front and, in so doing, both insulating itself from repeal and creating a daunting political challenge for its opponents.\\n\\nThe facts of the case are thoroughly drawn out in this new analysis by my colleagues Matt Broaddus and Edwin Park (B&P) from the Center on Budget and Policy Priorities:\\n\\n— As the figure above shows, newly released census data show that the share of those without health coverage fell from 13.3 percent to 10.4 last year.\\n\\n— That’s the largest single-year drop on record based on data going back to 1987.\\n\\nhi2\\nSource: B&P (see text)\\n— In this type of work, the strength of your findings are much bolstered when you see them across multiple sources. As B&P point out, the census findings are “consistent with the historic coverage gains measured in the Centers for Disease Control (CDC) and Prevention’s National Health Interview Survey and several private surveys…at 9.2 percent, the CDC’s estimated uninsured rate for the first quarter of 2015 was the lowest since the CDC began collecting these data in 1997 and more than 40 percent below the peak in 2010.”\\n\\n— The ACA takes a two-pronged attack on covering the uninsured, subsidizing private coverage through the exchanges and expanding Medicaid in the 25 states (as well as D.C.) that accepted that part of the deal. Both private and public coverage are making significant gains.\\n\\n— Speaking of anti-Obamacare ideology and its effect on people, B&P provide this revealing calculation: “If the uninsured rate had fallen in non-expansion states at the same rate as in expansion states, an additional 2.6 million uninsured Americans would have gained coverage last year.”\\n\\n— Coverage last year grew most quickly among households with income below $50,000; their uninsured rate fell from about 20 percent to about 15 percent — in one year! Households above $50,000 had lower uninsured rates to start with, so we would expect smaller changes, but they, too, went from 9 percent to 7.4 percent.\\n\\nSuch truths are more than inconvenient for sworn enemies of the law. They can bob and weave in their primaries, but once they reach the general election, their Democratic opponent will slam them on these points. And unless they’re willing to massively flip — pretty unimaginable, given the heat generated by the issue for conservatives — people represented in the numbers and charts above will rightfully fear that their health security is at stake.\\n\\nI cannot overemphasize the importance of these facts, and, yes, I know better than most that our political discourse too often exists in a fact-free zone. But the success of the ACA strikes at the heart of the dysfunction strategy employed extremely effectively by anti-government conservatives. This is the self-fulfilling-prophecy strategy that campaigns on: “Washington is broken! Send me there and I’ll make sure it stays that way!”\\n\\nRemember, when government messes up, when it shuts down, when it fails to address the things that matter to most people — economic opportunity, wage stagnation, affordable college — and, instead, squabbles about Planned Parenthood, the winners are those who can say: “See? We told you. Government’s broken!” Never mind that those making that case are the ones doing the breaking.\\n\\nBut with Obamacare, they’ve been failing, and the more we elevate that case, the closer we get to the road back to Factville.   \n",
       "25412  Remember how much Republicans wanted to repeal Obamacare?\\n\\nThe Republican majority in the House of Representatives has voted more than 50 times to repeal the law. Conservatives have twice brought challenges to the Supreme Court — a court with powerful voices that often lean in their direction — only to be largely rebuffed both times. The last government shutdown was driven by Republicans who insisted on defunding Obamacare (not to be confused with what may be the next government shutdown, driven by Republicans insisting on defunding Planned Parenthood).\\n\\nSome suggest that the calls for repealing Obamacare are fading. Sarah Kliff argued that the “near-complete absence of Obama’s health overhaul” in last week’s Republican presidential debate was “remarkable.”\\n\\nMaybe, but don’t count on it. In GOP presidential candidate Jeb Bush’s white paper on how he would get to 4 percent growth through supply-side tax cuts, his team of economists stresses that repealing the Affordable Care Act will be an “important means of enhancing economic growth.” Front-runner Donald Trump said just last week that he was going to replace Obamacare with “DonaldCare,” which would be both “absolutely great” and “really spectacular.” Repealing health-care reform remains a prominent talking point for Wisconsin Gov. Scott Walker and Sen. Ted Cruz, both GOP presidential candidates.\\n\\nWell, since we don’t know what’s in it, I can’t comment on DonaldCare.\\n\\nBut I can tell you this about Obamacare: When it comes to meeting one of its most important goals — providing coverage to the uninsured — it is working extremely well. It’s posting historical gains on this front and, in so doing, both insulating itself from repeal and creating a daunting political challenge for its opponents.\\n\\nThe facts of the case are thoroughly drawn out in this new analysis by my colleagues Matt Broaddus and Edwin Park (B&P) from the Center on Budget and Policy Priorities:\\n\\n— As the figure above shows, newly released census data show that the share of those without health coverage fell from 13.3 percent to 10.4 last year.\\n\\n— That’s the largest single-year drop on record based on data going back to 1987.\\n\\nhi2\\nSource: B&P (see text)\\n— In this type of work, the strength of your findings are much bolstered when you see them across multiple sources. As B&P point out, the census findings are “consistent with the historic coverage gains measured in the Centers for Disease Control (CDC) and Prevention’s National Health Interview Survey and several private surveys…at 9.2 percent, the CDC’s estimated uninsured rate for the first quarter of 2015 was the lowest since the CDC began collecting these data in 1997 and more than 40 percent below the peak in 2010.”\\n\\n— The ACA takes a two-pronged attack on covering the uninsured, subsidizing private coverage through the exchanges and expanding Medicaid in the 25 states (as well as D.C.) that accepted that part of the deal. Both private and public coverage are making significant gains.\\n\\n— Speaking of anti-Obamacare ideology and its effect on people, B&P provide this revealing calculation: “If the uninsured rate had fallen in non-expansion states at the same rate as in expansion states, an additional 2.6 million uninsured Americans would have gained coverage last year.”\\n\\n— Coverage last year grew most quickly among households with income below $50,000; their uninsured rate fell from about 20 percent to about 15 percent — in one year! Households above $50,000 had lower uninsured rates to start with, so we would expect smaller changes, but they, too, went from 9 percent to 7.4 percent.\\n\\nSuch truths are more than inconvenient for sworn enemies of the law. They can bob and weave in their primaries, but once they reach the general election, their Democratic opponent will slam them on these points. And unless they’re willing to massively flip — pretty unimaginable, given the heat generated by the issue for conservatives — people represented in the numbers and charts above will rightfully fear that their health security is at stake.\\n\\nI cannot overemphasize the importance of these facts, and, yes, I know better than most that our political discourse too often exists in a fact-free zone. But the success of the ACA strikes at the heart of the dysfunction strategy employed extremely effectively by anti-government conservatives. This is the self-fulfilling-prophecy strategy that campaigns on: “Washington is broken! Send me there and I’ll make sure it stays that way!”\\n\\nRemember, when government messes up, when it shuts down, when it fails to address the things that matter to most people — economic opportunity, wage stagnation, affordable college — and, instead, squabbles about Planned Parenthood, the winners are those who can say: “See? We told you. Government’s broken!” Never mind that those making that case are the ones doing the breaking.\\n\\nBut with Obamacare, they’ve been failing, and the more we elevate that case, the closer we get to the road back to Factville.   \n",
       "\n",
       "                                                                                      Headline  \\\n",
       "25410  CBO’s Alternate Facts Show Obamacare is Unsustainable                                     \n",
       "25411  Why Obamacare failed                                                                      \n",
       "25412  The success of the Affordable Care Act is a hugely inconvenient truth for its opponents   \n",
       "\n",
       "         Stance prediction_1 prediction_2  \n",
       "25410  disagree  unrelated    unrelated    \n",
       "25411  disagree  disagree     unrelated    \n",
       "25412  agree     agree        unrelated    "
      ]
     },
     "execution_count": 10,
     "metadata": {},
     "output_type": "execute_result"
    }
   ],
   "source": [
    "# Let's look at a few more examples (this time at the end of the dataset):\n",
    "test_data[-3:]"
   ]
  },
  {
   "cell_type": "markdown",
   "metadata": {},
   "source": [
    "### 4. Compare classifier performance"
   ]
  },
  {
   "cell_type": "markdown",
   "metadata": {},
   "source": [
    "We are now going to introduce some tools that we can use for evaluating classifier performance. These are:\n",
    "- Accuracy \n",
    "- Confusion Matrices\n",
    "- Precision and Recall\n",
    "- F1 score"
   ]
  },
  {
   "cell_type": "markdown",
   "metadata": {},
   "source": [
    "#### 4a. Accuracy"
   ]
  },
  {
   "cell_type": "markdown",
   "metadata": {},
   "source": [
    "Accuracy is defined as the ratio of the number of examples that were correctly predicted compared to the number of examples in the test dataset:\n",
    "$\\text{accuracy} = \\dfrac{\\text{number correct}}{\\text{number of examples}}$\n",
    "\n",
    "Let's calculate accuracy values for the classifier we saw yesterday, and compare this to the classifier which predicts 'unrelated' for all examples:"
   ]
  },
  {
   "cell_type": "code",
   "execution_count": 11,
   "metadata": {},
   "outputs": [],
   "source": [
    "def calculate_accuracy(test_data, truth_col_name, prediction_col_name):\n",
    "    number_correct = sum(test_data[truth_col_name] == test_data[prediction_col_name])\n",
    "    number_examples = test_data.shape[0]\n",
    "    accuracy = number_correct/number_examples\n",
    "    return accuracy"
   ]
  },
  {
   "cell_type": "code",
   "execution_count": 12,
   "metadata": {},
   "outputs": [
    {
     "data": {
      "text/plain": [
       "0.691575178058474"
      ]
     },
     "execution_count": 12,
     "metadata": {},
     "output_type": "execute_result"
    }
   ],
   "source": [
    "# Calculate accuracy for the classifier we created yesterday:\n",
    "calculate_accuracy(test_data, 'Stance', 'prediction_1')"
   ]
  },
  {
   "cell_type": "code",
   "execution_count": 13,
   "metadata": {},
   "outputs": [
    {
     "data": {
      "text/plain": [
       "0.7220320308503522"
      ]
     },
     "execution_count": 13,
     "metadata": {},
     "output_type": "execute_result"
    }
   ],
   "source": [
    "# Calculate accuracy for the classifier that classifies all examples as 'unrelated':\n",
    "calculate_accuracy(test_data, 'Stance', 'prediction_2')"
   ]
  },
  {
   "cell_type": "markdown",
   "metadata": {},
   "source": [
    "#### 4b. Confusion Matrices"
   ]
  },
  {
   "cell_type": "markdown",
   "metadata": {},
   "source": [
    "We have just seen that the classifier that predicts 'unrelated' for everything has a higher accuracy than the one we created yesterday! But there is something unsatisfying about this second classifier, and if we were using it to predict articles that might be Fake News (because the headline and article are unrelated), all articles would be marked as Fake News! This doesn't seem helpful! \n",
    "\n",
    "Perhaps accuracy is not the right tool to evaluate our classifier, and we should be using something else..."
   ]
  },
  {
   "cell_type": "markdown",
   "metadata": {},
   "source": [
    "We are now going to calculate something called a 'confusion matrix' for each of our classifiers:"
   ]
  },
  {
   "cell_type": "code",
   "execution_count": 14,
   "metadata": {},
   "outputs": [],
   "source": [
    "def calculate_confusion_matrix(test_data, truth_col_name, prediction_col_name):\n",
    "    return pd.crosstab(test_data[truth_col_name], test_data[prediction_col_name])"
   ]
  },
  {
   "cell_type": "code",
   "execution_count": 15,
   "metadata": {},
   "outputs": [
    {
     "data": {
      "text/html": [
       "<div>\n",
       "<style scoped>\n",
       "    .dataframe tbody tr th:only-of-type {\n",
       "        vertical-align: middle;\n",
       "    }\n",
       "\n",
       "    .dataframe tbody tr th {\n",
       "        vertical-align: top;\n",
       "    }\n",
       "\n",
       "    .dataframe thead th {\n",
       "        text-align: right;\n",
       "    }\n",
       "</style>\n",
       "<table border=\"1\" class=\"dataframe\">\n",
       "  <thead>\n",
       "    <tr style=\"text-align: right;\">\n",
       "      <th>prediction_1</th>\n",
       "      <th>agree</th>\n",
       "      <th>disagree</th>\n",
       "      <th>discuss</th>\n",
       "      <th>related</th>\n",
       "      <th>unrelated</th>\n",
       "    </tr>\n",
       "    <tr>\n",
       "      <th>Stance</th>\n",
       "      <th></th>\n",
       "      <th></th>\n",
       "      <th></th>\n",
       "      <th></th>\n",
       "      <th></th>\n",
       "    </tr>\n",
       "  </thead>\n",
       "  <tbody>\n",
       "    <tr>\n",
       "      <th>agree</th>\n",
       "      <td>895</td>\n",
       "      <td>342</td>\n",
       "      <td>8</td>\n",
       "      <td>1</td>\n",
       "      <td>657</td>\n",
       "    </tr>\n",
       "    <tr>\n",
       "      <th>disagree</th>\n",
       "      <td>239</td>\n",
       "      <td>149</td>\n",
       "      <td>5</td>\n",
       "      <td>0</td>\n",
       "      <td>304</td>\n",
       "    </tr>\n",
       "    <tr>\n",
       "      <th>discuss</th>\n",
       "      <td>1977</td>\n",
       "      <td>862</td>\n",
       "      <td>16</td>\n",
       "      <td>1</td>\n",
       "      <td>1608</td>\n",
       "    </tr>\n",
       "    <tr>\n",
       "      <th>unrelated</th>\n",
       "      <td>211</td>\n",
       "      <td>1600</td>\n",
       "      <td>20</td>\n",
       "      <td>3</td>\n",
       "      <td>16515</td>\n",
       "    </tr>\n",
       "  </tbody>\n",
       "</table>\n",
       "</div>"
      ],
      "text/plain": [
       "prediction_1  agree  disagree  discuss  related  unrelated\n",
       "Stance                                                    \n",
       "agree         895    342       8        1        657      \n",
       "disagree      239    149       5        0        304      \n",
       "discuss       1977   862       16       1        1608     \n",
       "unrelated     211    1600      20       3        16515    "
      ]
     },
     "execution_count": 15,
     "metadata": {},
     "output_type": "execute_result"
    }
   ],
   "source": [
    "calculate_confusion_matrix(test_data, 'Stance', 'prediction_1')"
   ]
  },
  {
   "cell_type": "markdown",
   "metadata": {},
   "source": [
    "What does the confusion matrix tell us? \n",
    "\n",
    "If we look at the first entry of the confusion matrix, with value 895, this tells us that 895 examples in the test dataset had label 'agree' (row value) and were correctly classified by our classifier as 'agree' (column value).\n",
    "\n",
    "If we look at the entry in the second row and first column (value 239), this tells us that 239 examples in the test dataset had label 'disagree', but were classified as 'agree' by our classifier. "
   ]
  },
  {
   "cell_type": "code",
   "execution_count": 16,
   "metadata": {},
   "outputs": [
    {
     "data": {
      "text/html": [
       "<div>\n",
       "<style scoped>\n",
       "    .dataframe tbody tr th:only-of-type {\n",
       "        vertical-align: middle;\n",
       "    }\n",
       "\n",
       "    .dataframe tbody tr th {\n",
       "        vertical-align: top;\n",
       "    }\n",
       "\n",
       "    .dataframe thead th {\n",
       "        text-align: right;\n",
       "    }\n",
       "</style>\n",
       "<table border=\"1\" class=\"dataframe\">\n",
       "  <thead>\n",
       "    <tr style=\"text-align: right;\">\n",
       "      <th>prediction_1</th>\n",
       "      <th>agree</th>\n",
       "      <th>disagree</th>\n",
       "      <th>discuss</th>\n",
       "      <th>related</th>\n",
       "      <th>unrelated</th>\n",
       "    </tr>\n",
       "    <tr>\n",
       "      <th>Stance</th>\n",
       "      <th></th>\n",
       "      <th></th>\n",
       "      <th></th>\n",
       "      <th></th>\n",
       "      <th></th>\n",
       "    </tr>\n",
       "  </thead>\n",
       "  <tbody>\n",
       "    <tr>\n",
       "      <th>agree</th>\n",
       "      <td>0.035218</td>\n",
       "      <td>0.013458</td>\n",
       "      <td>0.000315</td>\n",
       "      <td>0.000039</td>\n",
       "      <td>0.025853</td>\n",
       "    </tr>\n",
       "    <tr>\n",
       "      <th>disagree</th>\n",
       "      <td>0.009405</td>\n",
       "      <td>0.005863</td>\n",
       "      <td>0.000197</td>\n",
       "      <td>0.000000</td>\n",
       "      <td>0.011962</td>\n",
       "    </tr>\n",
       "    <tr>\n",
       "      <th>discuss</th>\n",
       "      <td>0.077795</td>\n",
       "      <td>0.033920</td>\n",
       "      <td>0.000630</td>\n",
       "      <td>0.000039</td>\n",
       "      <td>0.063275</td>\n",
       "    </tr>\n",
       "    <tr>\n",
       "      <th>unrelated</th>\n",
       "      <td>0.008303</td>\n",
       "      <td>0.062960</td>\n",
       "      <td>0.000787</td>\n",
       "      <td>0.000118</td>\n",
       "      <td>0.649864</td>\n",
       "    </tr>\n",
       "  </tbody>\n",
       "</table>\n",
       "</div>"
      ],
      "text/plain": [
       "prediction_1     agree  disagree   discuss   related  unrelated\n",
       "Stance                                                         \n",
       "agree         0.035218  0.013458  0.000315  0.000039  0.025853 \n",
       "disagree      0.009405  0.005863  0.000197  0.000000  0.011962 \n",
       "discuss       0.077795  0.033920  0.000630  0.000039  0.063275 \n",
       "unrelated     0.008303  0.062960  0.000787  0.000118  0.649864 "
      ]
     },
     "execution_count": 16,
     "metadata": {},
     "output_type": "execute_result"
    }
   ],
   "source": [
    "# Let's also look at the confusion matrix, where the entries are given as a proportion of the size of the\n",
    "#  test dataset\n",
    "calculate_confusion_matrix(test_data, 'Stance', 'prediction_1')/test_data.shape[0]"
   ]
  },
  {
   "cell_type": "code",
   "execution_count": 17,
   "metadata": {},
   "outputs": [
    {
     "data": {
      "text/html": [
       "<div>\n",
       "<style scoped>\n",
       "    .dataframe tbody tr th:only-of-type {\n",
       "        vertical-align: middle;\n",
       "    }\n",
       "\n",
       "    .dataframe tbody tr th {\n",
       "        vertical-align: top;\n",
       "    }\n",
       "\n",
       "    .dataframe thead th {\n",
       "        text-align: right;\n",
       "    }\n",
       "</style>\n",
       "<table border=\"1\" class=\"dataframe\">\n",
       "  <thead>\n",
       "    <tr style=\"text-align: right;\">\n",
       "      <th>prediction_2</th>\n",
       "      <th>unrelated</th>\n",
       "    </tr>\n",
       "    <tr>\n",
       "      <th>Stance</th>\n",
       "      <th></th>\n",
       "    </tr>\n",
       "  </thead>\n",
       "  <tbody>\n",
       "    <tr>\n",
       "      <th>agree</th>\n",
       "      <td>1903</td>\n",
       "    </tr>\n",
       "    <tr>\n",
       "      <th>disagree</th>\n",
       "      <td>697</td>\n",
       "    </tr>\n",
       "    <tr>\n",
       "      <th>discuss</th>\n",
       "      <td>4464</td>\n",
       "    </tr>\n",
       "    <tr>\n",
       "      <th>unrelated</th>\n",
       "      <td>18349</td>\n",
       "    </tr>\n",
       "  </tbody>\n",
       "</table>\n",
       "</div>"
      ],
      "text/plain": [
       "prediction_2  unrelated\n",
       "Stance                 \n",
       "agree         1903     \n",
       "disagree      697      \n",
       "discuss       4464     \n",
       "unrelated     18349    "
      ]
     },
     "execution_count": 17,
     "metadata": {},
     "output_type": "execute_result"
    }
   ],
   "source": [
    "# Let's calculate the confusion matrix for the second classifier:\n",
    "calculate_confusion_matrix(test_data, 'Stance', 'prediction_2')"
   ]
  },
  {
   "cell_type": "code",
   "execution_count": 18,
   "metadata": {},
   "outputs": [
    {
     "data": {
      "text/html": [
       "<div>\n",
       "<style scoped>\n",
       "    .dataframe tbody tr th:only-of-type {\n",
       "        vertical-align: middle;\n",
       "    }\n",
       "\n",
       "    .dataframe tbody tr th {\n",
       "        vertical-align: top;\n",
       "    }\n",
       "\n",
       "    .dataframe thead th {\n",
       "        text-align: right;\n",
       "    }\n",
       "</style>\n",
       "<table border=\"1\" class=\"dataframe\">\n",
       "  <thead>\n",
       "    <tr style=\"text-align: right;\">\n",
       "      <th>prediction_2</th>\n",
       "      <th>unrelated</th>\n",
       "    </tr>\n",
       "    <tr>\n",
       "      <th>Stance</th>\n",
       "      <th></th>\n",
       "    </tr>\n",
       "  </thead>\n",
       "  <tbody>\n",
       "    <tr>\n",
       "      <th>agree</th>\n",
       "      <td>0.074883</td>\n",
       "    </tr>\n",
       "    <tr>\n",
       "      <th>disagree</th>\n",
       "      <td>0.027427</td>\n",
       "    </tr>\n",
       "    <tr>\n",
       "      <th>discuss</th>\n",
       "      <td>0.175658</td>\n",
       "    </tr>\n",
       "    <tr>\n",
       "      <th>unrelated</th>\n",
       "      <td>0.722032</td>\n",
       "    </tr>\n",
       "  </tbody>\n",
       "</table>\n",
       "</div>"
      ],
      "text/plain": [
       "prediction_2  unrelated\n",
       "Stance                 \n",
       "agree         0.074883 \n",
       "disagree      0.027427 \n",
       "discuss       0.175658 \n",
       "unrelated     0.722032 "
      ]
     },
     "execution_count": 18,
     "metadata": {},
     "output_type": "execute_result"
    }
   ],
   "source": [
    "# And again, let's make the entries proportions of the full test dataset:\n",
    "calculate_confusion_matrix(test_data, 'Stance', 'prediction_2')/test_data.shape[0]"
   ]
  },
  {
   "cell_type": "markdown",
   "metadata": {},
   "source": [
    "TODO:\n",
    "- Discussion of confusion matrices (and division by row percentage to look at accuracy for each category)\n",
    "- F1 and precision/recall discussion."
   ]
  },
  {
   "cell_type": "markdown",
   "metadata": {},
   "source": []
  },
  {
   "cell_type": "markdown",
   "metadata": {},
   "source": [
    "### 5. Extra Challenge"
   ]
  },
  {
   "cell_type": "markdown",
   "metadata": {},
   "source": [
    "1. Take a look at some of the examples that were misclassified by our proportion overlap classifier. Why do you think our proportion overlap model failed? Can you think of a rule that would properly classify these examples?  Why not test it out?"
   ]
  }
 ],
 "metadata": {
  "kernelspec": {
   "display_name": "Python 3",
   "language": "python",
   "name": "python3"
  },
  "language_info": {
   "codemirror_mode": {
    "name": "ipython",
    "version": 3
   },
   "file_extension": ".py",
   "mimetype": "text/x-python",
   "name": "python",
   "nbconvert_exporter": "python",
   "pygments_lexer": "ipython3",
   "version": "3.6.5"
  }
 },
 "nbformat": 4,
 "nbformat_minor": 2
}
