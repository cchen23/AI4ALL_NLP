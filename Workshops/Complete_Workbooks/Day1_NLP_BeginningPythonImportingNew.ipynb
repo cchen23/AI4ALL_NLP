{
 "cells": [
  {
   "cell_type": "markdown",
   "metadata": {
    "deletable": true,
    "editable": true
   },
   "source": [
    "## Welcome to Jupyter!\n",
    "\n",
    "Jupyter divides Python code into neat units called a cell. There are two types of cell! \n",
    "\n",
    "Markup cells contain text, like this cell. Double click them to edit the text, and then press **`<Shift> + <Enter>`** to render it with formatting. Try double-clicking this text, then pressing **`<Shift> + <Enter>`**!\n",
    "\n",
    "Code cells contain executable python code. Click them to edit the code, then press **`<Shift> + <Enter>`** to execute the block. Try it out below!\n",
    "\n"
   ]
  },
  {
   "cell_type": "code",
   "execution_count": 1,
   "metadata": {
    "collapsed": false
   },
   "outputs": [
    {
     "name": "stdout",
     "output_type": "stream",
     "text": [
      "Hi, I'm a code cell! Click me and press shift + enter.\n"
     ]
    }
   ],
   "source": [
    "print(\"Hi, I'm a code cell! Click me and press shift + enter.\")"
   ]
  },
  {
   "cell_type": "markdown",
   "metadata": {},
   "source": [
    "You can add new cells using the plus sign on the menu above. \n",
    "\n",
    "Take a few minutes to look at the different options offered in the menu! There are a few that are especially useful: \n",
    "\n",
    "- File Menu \n",
    "    - \"Download As\" lets you save your notebook to your computer as a .ipynb file.\n",
    "- Kernel Menu\n",
    "    - \"Restart the kernel\" clears the output of every cell. Can be useful if your code gets stuck!\n",
    "- Cell Menu\n",
    "    - \"Cell Type\" lets you change the type of cell you are working with, between code and markup. \n",
    "\n"
   ]
  },
  {
   "cell_type": "markdown",
   "metadata": {},
   "source": [
    "## Libraries ##\n",
    "\n",
    "Remember learning about libraries? Today we're going to practice using numpy and nltk, two helpful libraries for natural language processing. \n",
    "Some things to keep in mind: \n",
    "- Objects vs attributes vs methods\n",
    "    - **Objects** are instances of something called a **class**. All objects of the same class have similar properties, but different specific values. For example, think about a car. The class Car might have some rules: 4 wheels, metal body, steering wheel. Specific instances of Cars, Car objects, could be very different (a gray Toyota, a blue SmartCar, a red Ferrari) but all of them follow the rules of the Car class. \n",
    "    - ** Attributes ** are some of what make these cars different! For example, the class Car might have an attribute color. Ferrari.color would be red, while Toyota.color would be gray. You can set or get the value of an attribute by using the syntax variable.attribute \n",
    "    - ** Methods ** are very similar to ** functions **, which you already learned about. Like a function, a method is a command to perform a sequence of actions that can accept ** arguments ** inside of the parenthesis that follow it. The only difference between the two:\n",
    "        - A **method** is a function performed on or by an object. For example, ferrari.drive() might be a method that makes a specific car drive. \n",
    "        - A **function** stands on its own. print(\"Hello, World!\") doesn't act on an object, it just does something. \n",
    "    \n",
    "These distinctions can be confusing (even for computer scientists!), so don't be afraid to ask. "
   ]
  },
  {
   "cell_type": "markdown",
   "metadata": {
    "deletable": true,
    "editable": true
   },
   "source": [
    "## Importing modules\n",
    "\n",
    "- Modules are pre-packaged groups of Python files that you can import\n",
    "- Modules contain classes (with attributes and methods), functions, and sometimes datasets\n",
    "- After importing a module, you can use all of these without having to write them yourself\n",
    "- Here is a simple example of importing and using a module called numpy, which provides support for lots of different calculations and mathematical data structures:"
   ]
  },
  {
   "cell_type": "code",
   "execution_count": 30,
   "metadata": {
    "collapsed": false,
    "deletable": true,
    "editable": true
   },
   "outputs": [
    {
     "name": "stdout",
     "output_type": "stream",
     "text": [
      "Type: \n",
      "<class 'numpy.ndarray'>\n",
      "Shape: \n",
      "(2, 3)\n",
      "Old: \n",
      "[[2 2 3]\n",
      " [4 5 6]]\n",
      "New: \n",
      "[[1 2 3]\n",
      " [4 5 6]]\n"
     ]
    }
   ],
   "source": [
    "# This line does the importing!\n",
    "import numpy as np\n",
    "# The format is: \"import (packagename) as (name you want to use for package in code).\n",
    "# If you leave the second part out, it will be called by its original name\n",
    "# i.e. if you said \"import numpy\", you would use numpy to refer to the package \n",
    "\n",
    "# Here is an example of making an instance of a numpy ndarray, a class that represents a mathematical array\n",
    "# It can be an array of any dimensions that can hold any objects of the same type, but is usually used to hold numbers \n",
    "# Numpy provides a lot of useful mathematical functions that take ndarrays as arguments. \n",
    ",\n",
    "ex_array = np.array([[2,2,3],[4,5,6]])    # Each layer of square brackets is another dimension within the array\n",
    "\n",
    "print(\"Type: \")\n",
    "print(type(ex_array))            # Prints \"<class 'numpy.ndarray'>\"\n",
    "\n",
    "print(\"Shape: \")\n",
    "print(ex_array.shape)  # Shape returns the dimensions of an array, so this prints \"(2, 3)\"\n",
    "\n",
    "print(\"Old: \")\n",
    "print(ex_array)   # Using square brackets gives you the elements at that index, so this prints \"1 2 4\"\n",
    "\n",
    "# You can index arrays using [a, b, ..... z] with as many dimensions as you want to specify.\n",
    "ex_array[0,0] = 1   # Using the assignment operator changes the values in the array. Here, we change the 1st item. \n",
    "print(\"New: \")\n",
    "print(ex_array)\n"
   ]
  },
  {
   "cell_type": "markdown",
   "metadata": {},
   "source": [
    "- To learn about what different functions or objects a module contains, you have to consult its documentation. For example, here is a link to the numpy documentation: https://docs.scipy.org/doc/numpy-1.14.0/reference/\n",
    "- Click the link that says \"N-Dimensional Arrays\" under the heading\"Arrays\" to learn more about the ndarray. \n",
    "- Try to find the methods or attributes from the documentation to do the following things with the ex_array. "
   ]
  },
  {
   "cell_type": "code",
   "execution_count": 22,
   "metadata": {
    "collapsed": false,
    "deletable": true,
    "editable": true
   },
   "outputs": [
    {
     "name": "stdout",
     "output_type": "stream",
     "text": [
      "Your answer: 6; correct answer: 6\n",
      "Your answer: 5; correct answer: 5\n",
      "Your answer: \n",
      "[[1 2]\n",
      " [3 4]\n",
      " [5 6]], \n",
      " the correct answer: \n",
      " [[1 2] \n",
      " [3 4] \n",
      " [5 6]]\n"
     ]
    }
   ],
   "source": [
    "# Find the number of elements in an array\n",
    "num_elements = ex_array.size\n",
    "print(\"Your answer: \" + str(num_elements) + \"; correct answer: 6\")\n",
    "\n",
    "# Find the index of the maximum value\n",
    "max_ind = ex_array.argmax()\n",
    "print(\"Your answer: \" + str(max_ind) + \"; correct answer: 5\")\n",
    "\n",
    "# Reshape the array so that it is of dimension 3 x 2\n",
    "re_ex_array = ex_array.reshape(3, 2)\n",
    "print(\"Your answer: \\n\" + str(re_ex_array) + \", \\n the correct answer: \\n [[1 2] \\n [3 4] \\n [5 6]]\")"
   ]
  },
  {
   "cell_type": "markdown",
   "metadata": {},
   "source": [
    "Numpy also includes a lot of functions for doing statistical calculations. Take a look at the \"Statistics\" section to see some of the options. Can you predict what each of the following lines will print out?"
   ]
  },
  {
   "cell_type": "code",
   "execution_count": 23,
   "metadata": {
    "collapsed": false
   },
   "outputs": [
    {
     "name": "stdout",
     "output_type": "stream",
     "text": [
      "3.5\n"
     ]
    }
   ],
   "source": [
    "print(np.mean(ex_array))"
   ]
  },
  {
   "cell_type": "code",
   "execution_count": 25,
   "metadata": {
    "collapsed": false
   },
   "outputs": [
    {
     "name": "stdout",
     "output_type": "stream",
     "text": [
      "1.70782512766\n"
     ]
    }
   ],
   "source": [
    "print(np.std(ex_array))"
   ]
  },
  {
   "cell_type": "code",
   "execution_count": null,
   "metadata": {
    "collapsed": true
   },
   "outputs": [],
   "source": []
  }
 ],
 "metadata": {
  "kernelspec": {
   "display_name": "Python 3",
   "language": "python",
   "name": "python3"
  },
  "language_info": {
   "codemirror_mode": {
    "name": "ipython",
    "version": 3
   },
   "file_extension": ".py",
   "mimetype": "text/x-python",
   "name": "python",
   "nbconvert_exporter": "python",
   "pygments_lexer": "ipython3",
   "version": "3.6.0"
  }
 },
 "nbformat": 4,
 "nbformat_minor": 0
}
