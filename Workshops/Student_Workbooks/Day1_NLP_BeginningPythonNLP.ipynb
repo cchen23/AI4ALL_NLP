{
 "cells": [
  {
   "cell_type": "markdown",
   "metadata": {
    "deletable": true,
    "editable": true
   },
   "source": [
    "# Welcome to Jupyter!\n",
    "\n",
    "Jupyter notebooks are a way of running Python code online. They divide code up into independent cells that work together. \n",
    "\n",
    "Markup cells contain text, like this cell. Double click them to edit the text, and then press **`<Shift> + <Enter>`** to render it with formatting. Try double-clicking this text!\n",
    "\n",
    "Code cells contain executable python code. Click them to edit the code, then press **`<Shift> + <Enter>`** to execute the block. Try it out below!\n",
    "\n"
   ]
  },
  {
   "cell_type": "code",
   "execution_count": 3,
   "metadata": {
    "collapsed": false
   },
   "outputs": [
    {
     "name": "stdout",
     "output_type": "stream",
     "text": [
      "Hi, I'm a code cell! Click me and press enter.\n"
     ]
    }
   ],
   "source": [
    "print(\"Hi, I'm a code cell! Click me and press enter.\")"
   ]
  },
  {
   "cell_type": "markdown",
   "metadata": {},
   "source": [
    "You can add new cells using the plus sign on the menu above. Take a few minutes to look at the different options offered in the menu! There are a few that are especially useful: \n",
    "\n",
    "- File Menu \n",
    "    - \"Download As\" lets you save your notebook to your computer as a .ipynb file\n",
    "- Kernel Menu\n",
    "    - \"Restart the kernel\" clears the output of every cell. Can be useful if your code gets stuck!\n",
    "- Cell Menu\n",
    "    - \"Cell Type\" lets you change the type of cell you are working with\n",
    "\n"
   ]
  },
  {
   "cell_type": "markdown",
   "metadata": {},
   "source": [
    "# Python\n",
    "\n",
    "The language we'll be working on for the project is called Python. Today's workbook is designed to familiarize you with some basic elements of Python and let you experiment with Jupyter notebook. You won't be asked to write much code, and you'll get a much more thorough introduction to Python tomorrow, so don't worry too much if certain things are confusing. "
   ]
  },
  {
   "cell_type": "markdown",
   "metadata": {},
   "source": [
    "## Variables and Built-ins\n",
    "\n",
    "One of the most basic elements of a programming language like Python is the **variable**. A **variable** is a name that refers to a specific ** object**, ** object instance**, or **object value**. The name is like a shorthand, easier to type and easier to remember what it's supposed to store. \n",
    "\n",
    "We'll talk more about what objects are later, but the first thing to know is that Python provides several basic types of object, which are known as **built-ins** because they're built into the language. Each built-in stores a different type of information and has different properties. \n",
    "\n",
    "Here are some useful basic types to know: \n",
    "\n",
    "- **`str`** (string; a sequence of characters enclosed in single quotes, double quotes, or triple quotes. These are like words and sentences)\n",
    "  - `'this is a string using single quotes'`\n",
    "  - `\"this is a string using double quotes\"`\n",
    "  - `'''this is a triple quoted string using single quotes'''`\n",
    "  - `\"\"\"this is a triple quoted string using double quotes\"\"\"`\n",
    "- **`int`** (integer; a whole number with no decimal place)\n",
    "  - `10`\n",
    "  - `-3`\n",
    "- **`float`** (float; a number that has a decimal place)\n",
    "  - `7.41`\n",
    "  - `-0.006`\n",
    "- **`bool`** (boolean; a binary value that is either true or false)\n",
    "  - `True`\n",
    "  - `False`\n",
    "  \n"
   ]
  },
  {
   "cell_type": "code",
   "execution_count": 6,
   "metadata": {
    "collapsed": false
   },
   "outputs": [
    {
     "name": "stdout",
     "output_type": "stream",
     "text": [
      "I am a Python string\n"
     ]
    }
   ],
   "source": [
    "# Here are examples of some of the basic types\n",
    "example_str = \"I am a Python string\"\n",
    "example_int = 10\n",
    "example_float = 6.5\n",
    "example_bool = True\n",
    "\n",
    "# We can use the print function to print out the value of any variable, like this\n",
    "print(example_str)\n",
    "\n",
    "# It's much easier than typing it out every time!"
   ]
  },
  {
   "cell_type": "code",
   "execution_count": null,
   "metadata": {
    "collapsed": true
   },
   "outputs": [],
   "source": [
    "# Try printing out the value of another one of the variables here"
   ]
  },
  {
   "cell_type": "markdown",
   "metadata": {},
   "source": [
    "## Operators\n",
    "\n",
    "The equals sign is called the **assignment operator**, but there are lots of other operators that you can use on variables. Some operators work differently on different types, like **arithmetic operators**\n",
    "  - **`+`** (addition)\n",
    "  - **`-`** (subtraction)\n",
    "  - **`*`** (multiplication)\n",
    "  - **`/`** (division)\n",
    "  - __`**`__ (exponent)\n",
    "  \n",
    "While some work pretty much the same on any type, like **comparison operators** (which return a bool, `True` or `False`)\n",
    "  - **`==`** (equal to)\n",
    "  - **`!=`** (not equal to)\n",
    "  - **`<`** (less than)\n",
    "  - **`<=`** (less than or equal to)\n",
    "  - **`>`** (greater than)\n",
    "  - **`>=`** (greater than or equal to)"
   ]
  },
  {
   "cell_type": "code",
   "execution_count": 7,
   "metadata": {
    "collapsed": false
   },
   "outputs": [
    {
     "name": "stdout",
     "output_type": "stream",
     "text": [
      "14\n",
      "I am a Python string with a little extra at the end'\n"
     ]
    }
   ],
   "source": [
    "# An arithmetic operator works like this on an int\n",
    "print(example_int + 4)"
   ]
  },
  {
   "cell_type": "code",
   "execution_count": null,
   "metadata": {
    "collapsed": true
   },
   "outputs": [],
   "source": [
    "# While on a string it looks like this\n",
    "print(example_str + \" with a little extra at the end\")"
   ]
  },
  {
   "cell_type": "code",
   "execution_count": 8,
   "metadata": {
    "collapsed": false
   },
   "outputs": [
    {
     "name": "stdout",
     "output_type": "stream",
     "text": [
      "2\n",
      "1\n",
      "0\n"
     ]
    }
   ],
   "source": [
    "# How does boolean addition work? Guess what the pattern of output will be\n",
    "print(True + True)\n",
    "print(True + False)\n",
    "print(False + False)"
   ]
  },
  {
   "cell_type": "code",
   "execution_count": 10,
   "metadata": {
    "collapsed": false
   },
   "outputs": [
    {
     "ename": "TypeError",
     "evalue": "unsupported operand type(s) for -: 'str' and 'str'",
     "output_type": "error",
     "traceback": [
      "\u001b[0;31m---------------------------------------------------------------------------\u001b[0m",
      "\u001b[0;31mTypeError\u001b[0m                                 Traceback (most recent call last)",
      "\u001b[0;32m<ipython-input-10-e33b76713bfb>\u001b[0m in \u001b[0;36m<module>\u001b[0;34m()\u001b[0m\n\u001b[1;32m      1\u001b[0m \u001b[0;31m# Not every arithmetic operator works on every type. You can't do this, for example\u001b[0m\u001b[0;34m\u001b[0m\u001b[0;34m\u001b[0m\u001b[0m\n\u001b[0;32m----> 2\u001b[0;31m \u001b[0mprint\u001b[0m\u001b[0;34m(\u001b[0m\u001b[0mexample_str\u001b[0m \u001b[0;34m-\u001b[0m \u001b[0;34m\" less a little at the end\"\u001b[0m\u001b[0;34m)\u001b[0m\u001b[0;34m\u001b[0m\u001b[0m\n\u001b[0m",
      "\u001b[0;31mTypeError\u001b[0m: unsupported operand type(s) for -: 'str' and 'str'"
     ]
    }
   ],
   "source": [
    "# Not every arithmetic operator works on every type. You can't do this, for example\n",
    "print(example_str - \" less a little at the end\")"
   ]
  },
  {
   "cell_type": "code",
   "execution_count": 12,
   "metadata": {
    "collapsed": false
   },
   "outputs": [
    {
     "ename": "TypeError",
     "evalue": "must be str, not int",
     "output_type": "error",
     "traceback": [
      "\u001b[0;31m---------------------------------------------------------------------------\u001b[0m",
      "\u001b[0;31mTypeError\u001b[0m                                 Traceback (most recent call last)",
      "\u001b[0;32m<ipython-input-12-a1d859e1e053>\u001b[0m in \u001b[0;36m<module>\u001b[0;34m()\u001b[0m\n\u001b[1;32m      1\u001b[0m \u001b[0;31m# You also can't use these operators on objects of different types\u001b[0m\u001b[0;34m\u001b[0m\u001b[0;34m\u001b[0m\u001b[0m\n\u001b[0;32m----> 2\u001b[0;31m \u001b[0mprint\u001b[0m\u001b[0;34m(\u001b[0m\u001b[0mexample_str\u001b[0m \u001b[0;34m+\u001b[0m \u001b[0mexample_int\u001b[0m\u001b[0;34m)\u001b[0m\u001b[0;34m\u001b[0m\u001b[0m\n\u001b[0m",
      "\u001b[0;31mTypeError\u001b[0m: must be str, not int"
     ]
    }
   ],
   "source": [
    "# You also can't use these operators on two objects of different types\n",
    "# Sometimes it looks like you should be able to:\n",
    "print(\"3\" + 4)"
   ]
  },
  {
   "cell_type": "markdown",
   "metadata": {},
   "source": [
    "## Functions\n",
    "\n",
    "Another way to operate with variables in Python is to use them as arguments to functions. Functions take the form\n",
    "    \n",
    "    functionname(argument1, argument2, ...)\n",
    "    \n",
    "Functions can have no arguments or many, and you can pass them variables as arguments. They are just a way to package a multistep operation into a single easily-callable name. For example, every time you want to print something to the console, you call print(output), rather than telling the computer exactly how to write output, every time. \n",
    "\n",
    "Soon you'll be writing your own functions, but for now you just need to recognize them and know how to use existing functions. "
   ]
  },
  {
   "cell_type": "markdown",
   "metadata": {},
   "source": [
    "## Objects\n",
    "\n",
    "If you're feeling a little restricted by the built-in types, never fear! Python also offers you and others the ability to create your own **objects**, which are like built-ins but customized. \n",
    "    \n",
    "   - **Objects** are instances of something called a **class**. All objects of the same class have similar properties, but different specific values. For example, think about a car.  \n",
    "       - All cars (all instances of class Car) have some properties in common: 4 wheels, metal body, steering wheel. \n",
    "       - However, specific instances of Car, have some different properties (a gray Toyota, a blue SmartCar, a red Ferrari) \n",
    "   - ** Attributes ** are some of what make these cars different! For example, the class Car might have an attribute color. Ferrari.color would be red, while Toyota.color would be gray. You can set or get the value of an attribute by using the syntax variable.attribute \n",
    "   - ** Methods ** are very similar to ** functions **, which you have been using already. Methods and functions are commands to perform a sequence of actions that can accept ** arguments ** inside of the parenthesis that follow it. For example, you've been using print(\"this and that\"). Here, print is the function, and \"this and that\" is the argument. \n",
    "       - A **method** is a function performed on or by an object. For example, ferrari.drive() might be a method that makes a specific car drive. \n",
    "       - A **function** stands on its own. print(\"Hello, World!\") doesn't act on an object, it just does something. \n",
    "    \n",
    "These distinctions can be confusing (even for computer scientists!), so don't be afraid to ask. "
   ]
  },
  {
   "cell_type": "markdown",
   "metadata": {},
   "source": [
    "## Importing modules\n",
    "If you want to use different kinds of object, but don't know where to begin building them, we have good news! There's a good chance somebody has already built something that would be useful to you, and Python makes it easy to use that code through something called a **module**. \n",
    "- Modules are pre-packaged groups of Python files that you can import\n",
    "- Modules contain classes (with attributes and methods), functions, and sometimes datasets\n",
    "- After importing a module, you can use all of these without having to write them yourself\n",
    "- Here is a simple example of importing and using a module called numpy, which provides support for lots of different calculations and mathematical data structures:"
   ]
  },
  {
   "cell_type": "code",
   "execution_count": 15,
   "metadata": {
    "collapsed": false
   },
   "outputs": [
    {
     "name": "stdout",
     "output_type": "stream",
     "text": [
      "Shape: \n",
      "(2, 3)\n",
      "Old: \n",
      "[[2 2 3]\n",
      " [4 5 6]]\n",
      "New: \n",
      "[[1 2 3]\n",
      " [4 5 6]]\n"
     ]
    }
   ],
   "source": [
    "# This line does the importing!\n",
    "import numpy as np\n",
    "# The format is: \"import (packagename) as (name you want to use for package in code).\n",
    "# If you leave the second part out, it will be called by its original name\n",
    "# i.e. if you said \"import numpy\", you would use numpy to refer to the package \n",
    "\n",
    "# Here is an example of making an instance of a numpy ndarray, a class that represents a mathematical array\n",
    "# It can be an array of any dimensions that can hold any objects of the same type, but is usually used to hold numbers \n",
    "# Numpy provides a lot of useful mathematical functions that take ndarrays as arguments. \n",
    ",\n",
    "ex_array = np.array([[2,2,3],[4,5,6]])    # Each layer of square brackets is another dimension within the array\n",
    "\n",
    "# Here, we print out one of the attributes of the object\n",
    "print(\"Shape: \")\n",
    "print(ex_array.shape)  # Shape returns the dimensions of an array, so this prints \"(2, 3)\"\n",
    "\n",
    "# Here, we print out the first version of the array\n",
    "print(\"Old: \")\n",
    "print(ex_array)   # Using square brackets gives you the elements at that index, so this prints \"1 2 4\"\n",
    "\n",
    "# You can index arrays using [a, b, ..... z] with as many dimensions as you want to specify.\n",
    "ex_array[0,0] = 1   # Using the assignment operator changes the values in the array. Here, we change the 1st item. \n",
    "print(\"New: \")\n",
    "print(ex_array)"
   ]
  },
  {
   "cell_type": "markdown",
   "metadata": {},
   "source": [
    "- To learn about what different functions or objects a module contains, you have to consult its documentation. For example, here is a link to the numpy documentation: https://docs.scipy.org/doc/numpy-1.14.0/reference/\n",
    "- Click the link that says \"N-Dimensional Arrays\" under the heading\"Arrays\" to learn more about the ndarray. \n",
    "- Try to find the methods or attributes from the documentation to do the following things with the ex_array. "
   ]
  },
  {
   "cell_type": "code",
   "execution_count": 16,
   "metadata": {
    "collapsed": false
   },
   "outputs": [
    {
     "name": "stdout",
     "output_type": "stream",
     "text": [
      "Your answer: 6; correct answer: 6\n",
      "Your answer: 5; correct answer: 5\n",
      "Your answer: \n",
      "[[1 2]\n",
      " [3 4]\n",
      " [5 6]], \n",
      " the correct answer: \n",
      " [[1 2] \n",
      " [3 4] \n",
      " [5 6]]\n"
     ]
    }
   ],
   "source": [
    "# Find the number of elements in an array\n",
    "num_elements = 0\n",
    "print(\"Your answer: \" + str(num_elements) + \"; correct answer: 6\")\n",
    "\n",
    "# Find the index of the maximum value\n",
    "max_ind = 0\n",
    "print(\"Your answer: \" + str(max_ind) + \"; correct answer: 5\")\n",
    "\n",
    "# Reshape the array so that it is of dimension 3 x 2\n",
    "re_ex_array = []\n",
    "print(\"Your answer: \\n\" + str(re_ex_array) + \", \\n the correct answer: \\n [[1 2] \\n [3 4] \\n [5 6]]\")"
   ]
  },
  {
   "cell_type": "markdown",
   "metadata": {},
   "source": [
    "Numpy also includes a lot of functions for doing statistical calculations. Take a look at the \"Statistics\" section to see some of the options. Can you predict what each of the following lines will print out?"
   ]
  },
  {
   "cell_type": "code",
   "execution_count": null,
   "metadata": {
    "collapsed": true
   },
   "outputs": [],
   "source": [
    "print(np.mean(ex_array))"
   ]
  },
  {
   "cell_type": "code",
   "execution_count": null,
   "metadata": {
    "collapsed": true
   },
   "outputs": [],
   "source": [
    "print(np.std(ex_array))"
   ]
  },
  {
   "cell_type": "markdown",
   "metadata": {},
   "source": [
    "Numpy is one of the most popular packages in Python, but it is far from the only one. In the next few days you'll learn about others that will be helpful for natural language processing. "
   ]
  },
  {
   "cell_type": "markdown",
   "metadata": {},
   "source": [
    "## Conclusion\n",
    "\n",
    "Don't worry if you don't feel comfortable writing your own code yet. This was a basic high-level overview of some of the information we'll be covering in the coming days. "
   ]
  },
  {
   "cell_type": "code",
   "execution_count": null,
   "metadata": {
    "collapsed": true
   },
   "outputs": [],
   "source": []
  }
 ],
 "metadata": {
  "kernelspec": {
   "display_name": "Python 3",
   "language": "python",
   "name": "python3"
  },
  "language_info": {
   "codemirror_mode": {
    "name": "ipython",
    "version": 3
   },
   "file_extension": ".py",
   "mimetype": "text/x-python",
   "name": "python",
   "nbconvert_exporter": "python",
   "pygments_lexer": "ipython3",
   "version": "3.6.0"
  }
 },
 "nbformat": 4,
 "nbformat_minor": 0
}
