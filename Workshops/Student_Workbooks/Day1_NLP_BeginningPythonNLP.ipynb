{
 "cells": [
  {
   "cell_type": "markdown",
   "metadata": {
    "deletable": true,
    "editable": true
   },
   "source": [
    "# Welcome to Jupyter!\n",
    "\n",
    "Jupyter notebooks are a way of running Python code online. They divide code up into independent cells that work together. \n",
    "\n",
    "Markup cells contain text, like this cell. Double click them to edit the text, and then press **`<Shift> + <Enter>`** to render it with formatting. Try double-clicking this text!\n",
    "\n",
    "Code cells contain executable python code. Click them to edit the code, then press **`<Shift> + <Enter>`** to execute the block. Try it out below!\n",
    "\n"
   ]
  },
  {
   "cell_type": "code",
   "execution_count": null,
   "metadata": {
    "collapsed": false
   },
   "outputs": [],
   "source": [
    "print(\"Hi, I'm a code cell! Click me and press shift + enter.\")"
   ]
  },
  {
   "cell_type": "markdown",
   "metadata": {},
   "source": [
    "You can add new cells using the plus sign on the menu above. Take a few minutes to look at the different options offered in the menu! There are a few that are especially useful: \n",
    "\n",
    "- File Menu \n",
    "    - \"Download As\" lets you save your notebook to your computer as a .ipynb file\n",
    "- Kernel Menu\n",
    "    - \"Restart the kernel\" clears the output of every cell. Can be useful if your code gets stuck!\n",
    "- Cell Menu\n",
    "    - \"Cell Type\" lets you change the type of cell you are working with\n",
    "\n"
   ]
  },
  {
   "cell_type": "markdown",
   "metadata": {},
   "source": [
    "# .... and Welcome to Python\n",
    "\n",
    "The language we'll be working on for the project is called Python. Today's workbook is designed to familiarize you with some basic elements of Python and let you experiment with Jupyter notebook. You won't be asked to write much code, and you'll get a much more thorough introduction to Python tomorrow, so don't worry too much if certain things are confusing. "
   ]
  },
  {
   "cell_type": "markdown",
   "metadata": {},
   "source": [
    "## Variables and Built-ins\n",
    "\n",
    "One of the most basic elements of a programming language like Python is the **variable**. A **variable** is a name that refers to a specific ** object**, ** object instance**, or **object value**. The name is like a shorthand, easier to type and easier to remember what it's supposed to store. \n",
    "\n",
    "We'll talk more about what objects are later, but the first thing to know is that Python provides several basic types which are known as **built-ins** because they're built into the language. Each built-in stores a different type of information and has different properties. \n",
    "\n",
    "Here are some useful basic types to know: \n",
    "\n",
    "- **`str`** (string; a sequence of characters enclosed in single quotes, double quotes, or triple quotes. These are like words and sentences)\n",
    "  - `'this is a string using single quotes'`\n",
    "  - `\"this is a string using double quotes\"`\n",
    "  - `'''this is a triple quoted string using single quotes'''`\n",
    "  - `\"\"\"this is a triple quoted string using double quotes\"\"\"`\n",
    "- **`int`** (integer; a whole number with no decimal place)\n",
    "  - `10`\n",
    "  - `-3`\n",
    "- **`float`** (float; a number that has a decimal place)\n",
    "  - `7.41`\n",
    "  - `-0.006`\n",
    "- **`bool`** (boolean; a binary value that is either true or false)\n",
    "  - `True`\n",
    "  - `False`\n",
    "  \n",
    "You assign to a variable using this syntax:\n",
    "    \n",
    "    variable_name = variable_value\n"
   ]
  },
  {
   "cell_type": "code",
   "execution_count": null,
   "metadata": {
    "collapsed": false
   },
   "outputs": [],
   "source": [
    "# Here are examples of some of the basic types\n",
    "example_str = \"I am a Python string\"\n",
    "example_int = 10\n",
    "example_float = 6.5\n",
    "example_bool = True\n",
    "\n",
    "# We can use the print function to print out the value of any variable, like this\n",
    "print(example_str)\n",
    "\n",
    "# It's much easier than typing it out every time!"
   ]
  },
  {
   "cell_type": "code",
   "execution_count": null,
   "metadata": {
    "collapsed": true
   },
   "outputs": [],
   "source": [
    "# Try creating a variable and printing it out"
   ]
  },
  {
   "cell_type": "markdown",
   "metadata": {},
   "source": [
    "## Functions\n",
    "\n",
    "Print is an example of a ** function ** in Python. Functions take the form\n",
    "\n",
    "    functionname(argument1, argument2, ...)\n",
    "    \n",
    "Functions can have no arguments or many, and you can pass them variables as arguments. They are just a way to package a multistep operation into a single easily-callable name. For example, every time you want to print something to the console, you call print(output), rather than telling the computer exactly how to write output, every time. \n",
    "\n",
    "Some functions do something but don't return anything, like print. Some functions do have a return value, and you can assign their output to a new variable like this: \n",
    "\n",
    "    new_variable = functionname(argument1, argument2, ...)\n",
    "\n",
    "Soon you'll be writing your own functions, but for now you just need to recognize them and know how to use existing functions. "
   ]
  },
  {
   "cell_type": "code",
   "execution_count": null,
   "metadata": {
    "collapsed": false
   },
   "outputs": [],
   "source": [
    "# Here is an example of how a function is written. The two terms in the parenthesis are the two arguments. \n",
    "# The return statement is what passes a value back. \n",
    "def addition(number_one, number_two):\n",
    "    return number_one + number_two\n",
    "\n",
    "# How would you use a function like this? Try replacing None using the function\n",
    "ex_num_one = 5\n",
    "ex_num_two = 4\n",
    "sum_of_nums = None\n",
    "print(\"Output is \" + str(sum_of_nums) + \", should be 9\")"
   ]
  },
  {
   "cell_type": "markdown",
   "metadata": {},
   "source": [
    "## Objects\n",
    "\n",
    "If you're feeling a little restricted by the built-in types, never fear! Python also offers the ability to create your own **objects**, which are like built-ins but customized. \n",
    "    \n",
    "   - **Objects** are instances of something called a **class**. All objects of the same class have similar properties, but different specific values. For example, think about a car. All cars (all instances of class Car) have some properties in common: 4 wheels, metal body, steering wheel. However, specific instances of Car have some different properties (a gray Toyota, a blue SmartCar, a red Ferrari) \n",
    "   - ** Attributes ** are some of what make these cars different! For example, the class Car might have an attribute color.  You can set or get the value of an attribute by using the syntax variable.attribute\n",
    "   For example: \n",
    "           ferrari.color = 'red'\n",
    "           toyota.color = 'gray'\n",
    "           \n",
    "   - ** Methods ** are very similar to ** functions **, which you have been using already. Methods and functions are commands to perform a sequence of actions that can accept ** arguments ** inside of the parenthesis that follow it. For example, you've been using print(\"this and that\"). Here, print is the function, and \"this and that\" is the argument. \n",
    "       - A **method** is a function performed on or by an object. For example\n",
    "               ferrari.drive() \n",
    "       might be a method that makes a specific car drive. \n",
    "       - A **function** stands on its own. \n",
    "               print(\"Hello, World!\") \n",
    "         doesn't act on an object, it just does something. \n",
    "    \n",
    "These distinctions can be confusing (even for computer scientists!), so don't be afraid to ask. "
   ]
  },
  {
   "cell_type": "code",
   "execution_count": null,
   "metadata": {
    "collapsed": false
   },
   "outputs": [],
   "source": [
    "class Car:\n",
    "    # This is a class attribute, shared by all instances. All cars will have four wheels.\n",
    "    num_wheels = 4\n",
    "    \n",
    "    # This is a constructor, a method that is called when an instance is created (don't worry about it yet). \n",
    "    def __init__(self, color):\n",
    "        # This is an instance attribute. Different cars will have different colors.\n",
    "        self.color = color\n",
    "    \n",
    "    # Here is the drive method\n",
    "    def drive(self):\n",
    "        # code to make the car drive\n",
    "        pass\n",
    "    \n",
    "    # Here is a method that changes the color attribute\n",
    "    def paint(self, new_color):\n",
    "        self.color = new_color\n",
    "    "
   ]
  },
  {
   "cell_type": "code",
   "execution_count": null,
   "metadata": {
    "collapsed": false
   },
   "outputs": [],
   "source": [
    "# Here is an example of making a class\n",
    "ferrari = Car('red')\n",
    "# Here is an example of accessing an attribute\n",
    "print(ferrari.color)\n",
    "\n",
    "# Try using the paint method to change the color of the ferrari\n",
    "\n",
    "\n",
    "# Let's see if it worked!\n",
    "print(\"New color:\")\n",
    "print(ferrari.color)"
   ]
  },
  {
   "cell_type": "markdown",
   "metadata": {},
   "source": [
    "## Importing modules\n",
    "If you want to use different kinds of object, but don't know where to begin building them, we have good news! There's a good chance somebody has already built something that would be useful to you, and Python makes it easy to use that code through something called a **module**. \n",
    "- Modules are pre-packaged groups of Python files that you can import\n",
    "- Modules contain classes (with attributes and methods), functions, and sometimes datasets\n",
    "- After importing a module, you can use all of these without having to write them yourself\n",
    "- Here is a simple example of importing and using a module called numpy, which provides support for lots of different calculations and mathematical data structures:"
   ]
  },
  {
   "cell_type": "code",
   "execution_count": null,
   "metadata": {
    "collapsed": false
   },
   "outputs": [],
   "source": [
    "# This line does the importing!\n",
    "import numpy as np\n",
    "# The format is: \"import (packagename) as (name you want to use for package in code).\n",
    "# If you leave the second part out, it will be called by its original name\n",
    "# i.e. if you said \"import numpy\", you would use numpy to refer to the package \n",
    "\n",
    "# Here is an example of making an instance of a numpy ndarray, a class that represents a mathematical array\n",
    "# It can be an array of any dimensions that can hold any objects of the same type, but is usually used to hold numbers \n",
    "# Numpy provides a lot of useful mathematical functions that take ndarrays as arguments. \n",
    ",\n",
    "ex_array = np.array([[2,2,3],[4,5,6]])    # Each layer of square brackets is another dimension within the array\n",
    "\n",
    "# Here, we print out one of the attributes of the object\n",
    "print(\"Shape: \")\n",
    "print(ex_array.shape)  # Shape is an attribute that holds the dimensions of an array, so this prints \"(2, 3)\"\n",
    "\n",
    "# Here, we print out the first version of the array\n",
    "print(\"Old: \")\n",
    "print(ex_array)   # Using square brackets gives you the elements at that index, so this prints \"1 2 4\"\n",
    "\n",
    "# You can index arrays using [a, b, ..... z] with as many dimensions as you want to specify.\n",
    "ex_array[0,0] = 1   # Using the assignment operator changes the values in the array. Here, we change the 1st item. \n",
    "print(\"New: \")\n",
    "print(ex_array)"
   ]
  },
  {
   "cell_type": "markdown",
   "metadata": {},
   "source": [
    "## Exploration: \n",
    "\n",
    "- To learn about what different functions or objects a module contains, you have to consult its documentation. For example, here is a link to the numpy documentation: https://docs.scipy.org/doc/numpy-1.14.0/reference/\n",
    "- Click the link that says \"N-Dimensional Arrays\" under the heading\"Arrays\" to learn more about the ndarray. \n",
    "- Try to find the methods or attributes from the documentation to do the following things with the ex_array. "
   ]
  },
  {
   "cell_type": "code",
   "execution_count": null,
   "metadata": {
    "collapsed": false
   },
   "outputs": [],
   "source": [
    "# Find the number of elements in an array\n",
    "num_elements = 0\n",
    "print(\"Your answer: \" + str(num_elements) + \"; correct answer: 6\")\n",
    "\n",
    "# Find the index of the maximum value\n",
    "max_ind = 0\n",
    "print(\"Your answer: \" + str(max_ind) + \"; correct answer: 5\")\n",
    "\n",
    "# Reshape the array so that it is of dimension 3 x 2\n",
    "re_ex_array = []\n",
    "print(\"Your answer: \\n\" + str(re_ex_array) + \", \\n the correct answer: \\n [[1 2] \\n [3 4] \\n [5 6]]\")"
   ]
  },
  {
   "cell_type": "markdown",
   "metadata": {},
   "source": [
    "Numpy also includes a lot of functions for doing statistical calculations. Take a look at the \"Statistics\" section to see some of the options. Can you predict what each of the following lines will print out?"
   ]
  },
  {
   "cell_type": "code",
   "execution_count": null,
   "metadata": {
    "collapsed": true
   },
   "outputs": [],
   "source": [
    "print(np.mean(ex_array))"
   ]
  },
  {
   "cell_type": "code",
   "execution_count": null,
   "metadata": {
    "collapsed": true
   },
   "outputs": [],
   "source": [
    "print(np.std(ex_array))"
   ]
  },
  {
   "cell_type": "markdown",
   "metadata": {},
   "source": [
    "Numpy is one of the most popular packages in Python, but it is far from the only one. In the next few days you'll learn about others that will be helpful for natural language processing. "
   ]
  },
  {
   "cell_type": "markdown",
   "metadata": {},
   "source": [
    "## Conclusion\n",
    "\n",
    "Don't worry if you don't feel comfortable writing your own code yet. This was a basic high-level overview of some of the information we'll be covering in the coming days. "
   ]
  },
  {
   "cell_type": "code",
   "execution_count": null,
   "metadata": {
    "collapsed": false
   },
   "outputs": [],
   "source": [
    "print(\"Nice work today!\")"
   ]
  }
 ],
 "metadata": {
  "kernelspec": {
   "display_name": "Python 3",
   "language": "python",
   "name": "python3"
  },
  "language_info": {
   "codemirror_mode": {
    "name": "ipython",
    "version": 3
   },
   "file_extension": ".py",
   "mimetype": "text/x-python",
   "name": "python",
   "nbconvert_exporter": "python",
   "pygments_lexer": "ipython3",
   "version": "3.6.0"
  }
 },
 "nbformat": 4,
 "nbformat_minor": 0
}
