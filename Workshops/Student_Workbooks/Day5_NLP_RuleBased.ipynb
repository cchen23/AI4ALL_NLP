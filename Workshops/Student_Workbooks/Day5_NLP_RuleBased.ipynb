{
 "cells": [
  {
   "cell_type": "markdown",
   "metadata": {},
   "source": [
    "Anytime you see ``______ # TODO: FILL IN HERE.`` in the code, you should replace the ``______`` with your own code.\n",
    "\n",
    "As always, ask your neighbors or an instructor if you have any questions!"
   ]
  },
  {
   "cell_type": "markdown",
   "metadata": {},
   "source": [
    "# Rule-Based Classification"
   ]
  },
  {
   "cell_type": "markdown",
   "metadata": {},
   "source": [
    "Today we'll be creating our own rule-based classfiers. In the first example we'll walk through a guided example, and then you'll build your own rule-based classifier from scratch for the second dataset."
   ]
  },
  {
   "cell_type": "markdown",
   "metadata": {},
   "source": [
    "### 0. Import the packages we'll need."
   ]
  },
  {
   "cell_type": "code",
   "execution_count": null,
   "metadata": {
    "collapsed": true
   },
   "outputs": [],
   "source": [
    "import csv\n",
    "import pandas as pd"
   ]
  },
  {
   "cell_type": "markdown",
   "metadata": {},
   "source": [
    "## Tweet classification"
   ]
  },
  {
   "cell_type": "markdown",
   "metadata": {},
   "source": [
    "We'll start with an example borrowed from a previous AI4ALL camp, held at Stanford in 2017. In this example, our dataset contains tweets from hurricane Sandy. These tweets were labeled by hand, and each tweet contains two labels: a category, and a need/resource."
   ]
  },
  {
   "cell_type": "markdown",
   "metadata": {},
   "source": [
    "### 1. Download the data."
   ]
  },
  {
   "cell_type": "markdown",
   "metadata": {},
   "source": [
    "Go to https://github.com/abisee/sailors2017/blob/master/data/labeled-data-singlelabels-train.csv and download the .csv file containing labeled training examples."
   ]
  },
  {
   "cell_type": "markdown",
   "metadata": {},
   "source": [
    "### 2. Load and explore the data."
   ]
  },
  {
   "cell_type": "markdown",
   "metadata": {},
   "source": [
    "#### 2a. Manually examine the tweets.\n",
    "First, look through the csv file (either by opening it on your computer, or by looking through it online). Try to answer the following questions:\n",
    "\n",
    "    What are the possible categories for the \"Category\" label?\n",
    "    What are the possible categories for the \"Need/Resource\" label?\n",
    "    If you were to classify these yourself, what would make you classify a tweet under a certain label? Are there certain words that seem important for classification?"
   ]
  },
  {
   "cell_type": "markdown",
   "metadata": {},
   "source": [
    "#### 2b. Load the tweets and do some more exploration."
   ]
  },
  {
   "cell_type": "markdown",
   "metadata": {},
   "source": [
    "Now, run the following code to load the data into this notebook."
   ]
  },
  {
   "cell_type": "code",
   "execution_count": null,
   "metadata": {},
   "outputs": [],
   "source": [
    "def read_data(path):\n",
    "    categories = ['Energy', 'Food', 'Medical', 'None', 'Water']\n",
    "    need_or_resource_labels = ['need', 'resource', 'N/A']\n",
    "    data = pd.DataFrame(columns=['ID', 'tweet', 'category', 'need_or_resource'])\n",
    "    with open(path, encoding=\"utf8\") as f:\n",
    "      reader = csv.reader(f)\n",
    "      for row in reader:\n",
    "        (tweetId, tweetText, category, need_or_resource) = row\n",
    "        assert category in categories\n",
    "        assert need_or_resource in need_or_resource_labels\n",
    "        if need_or_resource == \"N/A\":\n",
    "          assert category == \"None\"\n",
    "        data = data.append({'ID':int(tweetId), 'tweet':tweetText.lower(), 'category':category, 'need_or_resource':need_or_resource}, ignore_index=True)\n",
    "    data.index = data.ID\n",
    "    return data\n",
    "\n",
    "train_data = read_data('labeled-data-singlelabels-train.csv')"
   ]
  },
  {
   "cell_type": "markdown",
   "metadata": {},
   "source": [
    "Examine the first few rows of the DataFrame, and then figure out how many examples we have in this dataset. If you get stuck, feel free to look through our Data Representation and Exploration notebook for a refresher on how to do this!"
   ]
  },
  {
   "cell_type": "code",
   "execution_count": null,
   "metadata": {},
   "outputs": [],
   "source": [
    "train_data.____ # TODO: FILL IN HERE"
   ]
  },
  {
   "cell_type": "code",
   "execution_count": null,
   "metadata": {},
   "outputs": [],
   "source": [
    "train_data.____ # TODO: FILL IN HERE"
   ]
  },
  {
   "cell_type": "markdown",
   "metadata": {},
   "source": [
    "### 3. Create a rule-based classifier."
   ]
  },
  {
   "cell_type": "markdown",
   "metadata": {},
   "source": [
    "Now we'll try out a rule-based classifier. Fill in the following functions with some rules that you think make sense. For example, if you wanted to check if a certain word is in a tweet, you could use the rule:\n",
    "\n",
    "    ``if 'word' in tweet``\n",
    "\n",
    "You can join these words using ``and`` or ``or``. For instance, ``if 'word1' in tweet and 'word2' in tweet`` is true if and only if **both** word1 and word2 are in the tweet, while ``if 'word1' in tweet or 'word2' in tweet`` is true if **at least one** of word1 and word2 are in the tweet."
   ]
  },
  {
   "cell_type": "code",
   "execution_count": null,
   "metadata": {
    "collapsed": true
   },
   "outputs": [],
   "source": [
    "def classify_category(tweet):\n",
    "    if ____: # TODO: FILL IN HERE\n",
    "        return 'Energy'\n",
    "    elif ____: # TODO: FILL IN HERE\n",
    "        return 'Food'\n",
    "    elif ____: # TODO: FILL IN HERE\n",
    "        return 'Medical'\n",
    "    elif ____: # TODO: FILL IN HERE\n",
    "        return 'Water'\n",
    "    else:\n",
    "        return 'None'\n",
    "\n",
    "def classify_need_or_resource(tweet):\n",
    "    if ____: # TODO: FILL IN HERE\n",
    "        return 'Need'\n",
    "    elif ____: # TODO: FILL IN HERE\n",
    "        return 'Resource'\n",
    "    else:\n",
    "        return None"
   ]
  },
  {
   "cell_type": "markdown",
   "metadata": {},
   "source": [
    "### 4. Try out your classifier!"
   ]
  },
  {
   "cell_type": "markdown",
   "metadata": {},
   "source": [
    "#### 4a: Find some examples that work."
   ]
  },
  {
   "cell_type": "markdown",
   "metadata": {},
   "source": [
    "Select some examples (or make them up, by setting ``tweet`` to a string of your creation) from the training set for which our classifiers give the correct classification. You can select tweets using their tweetID. For example, the following code runs the classifier on the tweet with ID 5."
   ]
  },
  {
   "cell_type": "code",
   "execution_count": null,
   "metadata": {},
   "outputs": [],
   "source": [
    "tweetID = 5\n",
    "tweet = train_data.loc[tweetID]['tweet']\n",
    "print(\"Predicted category label: %s, Actual category label: %s\" % (classify_category(tweet), train_data.loc[tweetID]['category']))\n",
    "print(\"Predicted need/resource label: %s, Actual need/resource label: %s\" % (classify_need_or_resource(tweet), train_data.loc[tweetID]['need_or_resource']))"
   ]
  },
  {
   "cell_type": "markdown",
   "metadata": {},
   "source": [
    "#### 4b: Find some examples that don't work."
   ]
  },
  {
   "cell_type": "markdown",
   "metadata": {},
   "source": [
    "Now select some examples (or make them up) that give the wrong classification."
   ]
  },
  {
   "cell_type": "markdown",
   "metadata": {},
   "source": [
    "## Spam classification."
   ]
  },
  {
   "cell_type": "markdown",
   "metadata": {},
   "source": [
    "Now try the same thing on your own, using a different dataset. Try going through the same steps as we did for tweet classification -- ask your neighbors or an instructor if you have questions!"
   ]
  },
  {
   "cell_type": "markdown",
   "metadata": {},
   "source": [
    "### 1. Download the data.\n",
    "You can download the dataset from https://www.kaggle.com/benvozza/spam-classification/data."
   ]
  },
  {
   "cell_type": "markdown",
   "metadata": {},
   "source": [
    "### 2. Load and explore the data."
   ]
  },
  {
   "cell_type": "markdown",
   "metadata": {},
   "source": [
    "### 3. Create a rule-based classifier."
   ]
  },
  {
   "cell_type": "markdown",
   "metadata": {},
   "source": [
    "### 4. Try out your classifier."
   ]
  },
  {
   "cell_type": "markdown",
   "metadata": {},
   "source": [
    "# Extra Challenge"
   ]
  },
  {
   "cell_type": "markdown",
   "metadata": {},
   "source": [
    "\"Extra challenge\" sections are a more unguided exploration into the concepts we've discussed. You'll notice less scaffolding for the code -- try implementing these concepts from scratch, and feel free to ask your neighbors or an instructor if you have any questions!"
   ]
  },
  {
   "cell_type": "markdown",
   "metadata": {},
   "source": [
    "Try creating a rule-based classifier for the Fake News Challenge."
   ]
  },
  {
   "cell_type": "markdown",
   "metadata": {},
   "source": [
    "How well does this method work? If it works well, what rules worked best? If it does not work well, why do you think that is?"
   ]
  }
 ],
 "metadata": {
  "kernelspec": {
   "display_name": "Python 3",
   "language": "python",
   "name": "python3"
  },
  "language_info": {
   "codemirror_mode": {
    "name": "ipython",
    "version": 3
   },
   "file_extension": ".py",
   "mimetype": "text/x-python",
   "name": "python",
   "nbconvert_exporter": "python",
   "pygments_lexer": "ipython3",
   "version": "3.6.3"
  }
 },
 "nbformat": 4,
 "nbformat_minor": 2
}
